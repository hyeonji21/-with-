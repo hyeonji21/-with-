{
 "cells": [
  {
   "cell_type": "markdown",
   "metadata": {},
   "source": [
    "### 101040 모델 (6/23 ~ 6/26)"
   ]
  },
  {
   "cell_type": "code",
   "execution_count": 1,
   "metadata": {},
   "outputs": [],
   "source": [
    "import pandas as pd\n",
    "import numpy as np\n",
    "import seaborn as sns\n",
    "import matplotlib.pyplot as plt\n",
    "import scipy.stats as stats"
   ]
  },
  {
   "cell_type": "code",
   "execution_count": 2,
   "metadata": {},
   "outputs": [],
   "source": [
    "d1 = pd.read_csv(\"LOT1_20210623100257.csv\")\n",
    "d2 = pd.read_csv(\"LOT1_20210624093425.csv\")\n",
    "d3 = pd.read_csv(\"LOT1_20210624201454.csv\")\n",
    "d4 = pd.read_csv(\"LOT1_20210625012652.csv\")\n",
    "d5 = pd.read_csv(\"LOT1_20210625074117.csv\")\n",
    "d6 = pd.read_csv(\"LOT1_20210625111428.csv\")\n",
    "d7 = pd.read_csv(\"LOT1_20210626093849.csv\")"
   ]
  },
  {
   "cell_type": "code",
   "execution_count": 3,
   "metadata": {},
   "outputs": [],
   "source": [
    "d1 = d1.drop(['DUT_ID', 'MACHINE', 'REMARK', 'Unnamed: 26'], axis=1)\n",
    "d2 = d2.drop(['DUT_ID', 'MACHINE', 'REMARK', 'Unnamed: 26'], axis=1)\n",
    "d3 = d3.drop(['DUT_ID', 'MACHINE', 'REMARK', 'Unnamed: 26'], axis=1)\n",
    "d4 = d4.drop(['DUT_ID', 'MACHINE', 'REMARK', 'Unnamed: 26'], axis=1)\n",
    "d5 = d5.drop(['DUT_ID', 'MACHINE', 'REMARK', 'Unnamed: 26'], axis=1)\n",
    "d6 = d6.drop(['DUT_ID', 'MACHINE', 'REMARK', 'Unnamed: 26'], axis=1)\n",
    "d7 = d7.drop(['DUT_ID', 'MACHINE', 'REMARK', 'Unnamed: 26'], axis=1)"
   ]
  },
  {
   "cell_type": "code",
   "execution_count": 4,
   "metadata": {},
   "outputs": [
    {
     "data": {
      "text/html": [
       "<div>\n",
       "<style scoped>\n",
       "    .dataframe tbody tr th:only-of-type {\n",
       "        vertical-align: middle;\n",
       "    }\n",
       "\n",
       "    .dataframe tbody tr th {\n",
       "        vertical-align: top;\n",
       "    }\n",
       "\n",
       "    .dataframe thead th {\n",
       "        text-align: right;\n",
       "    }\n",
       "</style>\n",
       "<table border=\"1\" class=\"dataframe\">\n",
       "  <thead>\n",
       "    <tr style=\"text-align: right;\">\n",
       "      <th></th>\n",
       "      <th>NUM</th>\n",
       "      <th>CH</th>\n",
       "      <th>[SEQ1]  RisingTime</th>\n",
       "      <th>[SEQ1]  FallingTime</th>\n",
       "      <th>[SEQ2]  F0 Current</th>\n",
       "      <th>[SEQ2]  F0 Vibration</th>\n",
       "      <th>[SEQ2]  Noise Touch</th>\n",
       "      <th>[SEQ2]  Noise THD1</th>\n",
       "      <th>[SEQ2]  Noise Band1</th>\n",
       "      <th>[SEQ3]  F0 Frequency</th>\n",
       "      <th>...</th>\n",
       "      <th>[SEQ3]  Noise Band1</th>\n",
       "      <th>[SEQ4]  F0 Vibration</th>\n",
       "      <th>[SEQ4]  Noise Touch</th>\n",
       "      <th>[SEQ4]  Noise THD1</th>\n",
       "      <th>[SEQ4]  Noise Band1</th>\n",
       "      <th>[SEQ5]  F0 Vibration</th>\n",
       "      <th>[SEQ6]  F0 Vibration</th>\n",
       "      <th>PASS/FAIL</th>\n",
       "      <th>DATE</th>\n",
       "      <th>MODEL</th>\n",
       "    </tr>\n",
       "  </thead>\n",
       "  <tbody>\n",
       "    <tr>\n",
       "      <th>0</th>\n",
       "      <td>1</td>\n",
       "      <td>CH1</td>\n",
       "      <td>4.5</td>\n",
       "      <td>18.6</td>\n",
       "      <td>294.5</td>\n",
       "      <td>1.11</td>\n",
       "      <td>0.0</td>\n",
       "      <td>4.1</td>\n",
       "      <td>0.0</td>\n",
       "      <td>168.6</td>\n",
       "      <td>...</td>\n",
       "      <td>0.4</td>\n",
       "      <td>1.17</td>\n",
       "      <td>0.8</td>\n",
       "      <td>3.6</td>\n",
       "      <td>0.0</td>\n",
       "      <td>1.71</td>\n",
       "      <td>1.31</td>\n",
       "      <td>PASS</td>\n",
       "      <td>2021-06-23 10:05:07</td>\n",
       "      <td>101040SB Alert_FILE HUBBLE them 165hz</td>\n",
       "    </tr>\n",
       "    <tr>\n",
       "      <th>1</th>\n",
       "      <td>1</td>\n",
       "      <td>CH2</td>\n",
       "      <td>5.8</td>\n",
       "      <td>17.1</td>\n",
       "      <td>299.9</td>\n",
       "      <td>1.09</td>\n",
       "      <td>6.2</td>\n",
       "      <td>4.0</td>\n",
       "      <td>2.3</td>\n",
       "      <td>167.1</td>\n",
       "      <td>...</td>\n",
       "      <td>1.3</td>\n",
       "      <td>1.08</td>\n",
       "      <td>0.0</td>\n",
       "      <td>4.7</td>\n",
       "      <td>0.0</td>\n",
       "      <td>1.63</td>\n",
       "      <td>1.24</td>\n",
       "      <td>PASS</td>\n",
       "      <td>2021-06-23 10:05:09</td>\n",
       "      <td>101040SB Alert_FILE HUBBLE them 165hz</td>\n",
       "    </tr>\n",
       "    <tr>\n",
       "      <th>2</th>\n",
       "      <td>1</td>\n",
       "      <td>CH3</td>\n",
       "      <td>6.2</td>\n",
       "      <td>20.5</td>\n",
       "      <td>305.7</td>\n",
       "      <td>0.99</td>\n",
       "      <td>0.0</td>\n",
       "      <td>2.9</td>\n",
       "      <td>0.0</td>\n",
       "      <td>171.7</td>\n",
       "      <td>...</td>\n",
       "      <td>0.1</td>\n",
       "      <td>1.10</td>\n",
       "      <td>1.1</td>\n",
       "      <td>2.8</td>\n",
       "      <td>0.0</td>\n",
       "      <td>1.53</td>\n",
       "      <td>1.15</td>\n",
       "      <td>PASS</td>\n",
       "      <td>2021-06-23 10:05:11</td>\n",
       "      <td>101040SB Alert_FILE HUBBLE them 165hz</td>\n",
       "    </tr>\n",
       "    <tr>\n",
       "      <th>3</th>\n",
       "      <td>1</td>\n",
       "      <td>CH4</td>\n",
       "      <td>6.2</td>\n",
       "      <td>19.1</td>\n",
       "      <td>302.1</td>\n",
       "      <td>1.11</td>\n",
       "      <td>0.0</td>\n",
       "      <td>3.6</td>\n",
       "      <td>0.0</td>\n",
       "      <td>172.9</td>\n",
       "      <td>...</td>\n",
       "      <td>1.3</td>\n",
       "      <td>1.11</td>\n",
       "      <td>0.0</td>\n",
       "      <td>3.3</td>\n",
       "      <td>0.0</td>\n",
       "      <td>1.77</td>\n",
       "      <td>1.38</td>\n",
       "      <td>PASS</td>\n",
       "      <td>2021-06-23 10:05:14</td>\n",
       "      <td>101040SB Alert_FILE HUBBLE them 165hz</td>\n",
       "    </tr>\n",
       "    <tr>\n",
       "      <th>4</th>\n",
       "      <td>1</td>\n",
       "      <td>CH6</td>\n",
       "      <td>6.4</td>\n",
       "      <td>19.7</td>\n",
       "      <td>309.1</td>\n",
       "      <td>1.07</td>\n",
       "      <td>0.0</td>\n",
       "      <td>3.7</td>\n",
       "      <td>0.0</td>\n",
       "      <td>172.9</td>\n",
       "      <td>...</td>\n",
       "      <td>3.8</td>\n",
       "      <td>1.10</td>\n",
       "      <td>1.9</td>\n",
       "      <td>3.3</td>\n",
       "      <td>0.0</td>\n",
       "      <td>1.73</td>\n",
       "      <td>1.33</td>\n",
       "      <td>PASS</td>\n",
       "      <td>2021-06-23 10:05:16</td>\n",
       "      <td>101040SB Alert_FILE HUBBLE them 165hz</td>\n",
       "    </tr>\n",
       "  </tbody>\n",
       "</table>\n",
       "<p>5 rows × 23 columns</p>\n",
       "</div>"
      ],
      "text/plain": [
       "   NUM   CH  [SEQ1]  RisingTime  [SEQ1]  FallingTime  [SEQ2]  F0 Current  \\\n",
       "0    1  CH1                 4.5                 18.6               294.5   \n",
       "1    1  CH2                 5.8                 17.1               299.9   \n",
       "2    1  CH3                 6.2                 20.5               305.7   \n",
       "3    1  CH4                 6.2                 19.1               302.1   \n",
       "4    1  CH6                 6.4                 19.7               309.1   \n",
       "\n",
       "   [SEQ2]  F0 Vibration  [SEQ2]  Noise Touch  [SEQ2]  Noise THD1  \\\n",
       "0                  1.11                  0.0                 4.1   \n",
       "1                  1.09                  6.2                 4.0   \n",
       "2                  0.99                  0.0                 2.9   \n",
       "3                  1.11                  0.0                 3.6   \n",
       "4                  1.07                  0.0                 3.7   \n",
       "\n",
       "   [SEQ2]  Noise Band1  [SEQ3]  F0 Frequency  ...  [SEQ3]  Noise Band1  \\\n",
       "0                  0.0                 168.6  ...                  0.4   \n",
       "1                  2.3                 167.1  ...                  1.3   \n",
       "2                  0.0                 171.7  ...                  0.1   \n",
       "3                  0.0                 172.9  ...                  1.3   \n",
       "4                  0.0                 172.9  ...                  3.8   \n",
       "\n",
       "   [SEQ4]  F0 Vibration  [SEQ4]  Noise Touch  [SEQ4]  Noise THD1  \\\n",
       "0                  1.17                  0.8                 3.6   \n",
       "1                  1.08                  0.0                 4.7   \n",
       "2                  1.10                  1.1                 2.8   \n",
       "3                  1.11                  0.0                 3.3   \n",
       "4                  1.10                  1.9                 3.3   \n",
       "\n",
       "   [SEQ4]  Noise Band1  [SEQ5]  F0 Vibration  [SEQ6]  F0 Vibration  PASS/FAIL  \\\n",
       "0                  0.0                  1.71                  1.31       PASS   \n",
       "1                  0.0                  1.63                  1.24       PASS   \n",
       "2                  0.0                  1.53                  1.15       PASS   \n",
       "3                  0.0                  1.77                  1.38       PASS   \n",
       "4                  0.0                  1.73                  1.33       PASS   \n",
       "\n",
       "                  DATE                                  MODEL  \n",
       "0  2021-06-23 10:05:07  101040SB Alert_FILE HUBBLE them 165hz  \n",
       "1  2021-06-23 10:05:09  101040SB Alert_FILE HUBBLE them 165hz  \n",
       "2  2021-06-23 10:05:11  101040SB Alert_FILE HUBBLE them 165hz  \n",
       "3  2021-06-23 10:05:14  101040SB Alert_FILE HUBBLE them 165hz  \n",
       "4  2021-06-23 10:05:16  101040SB Alert_FILE HUBBLE them 165hz  \n",
       "\n",
       "[5 rows x 23 columns]"
      ]
     },
     "execution_count": 4,
     "metadata": {},
     "output_type": "execute_result"
    }
   ],
   "source": [
    "df = pd.concat([d1, d2, d3, d4, d5, d6, d7])\n",
    "df.head()"
   ]
  },
  {
   "cell_type": "code",
   "execution_count": 5,
   "metadata": {},
   "outputs": [
    {
     "name": "stdout",
     "output_type": "stream",
     "text": [
      "<class 'pandas.core.frame.DataFrame'>\n",
      "Int64Index: 21785 entries, 0 to 3841\n",
      "Data columns (total 23 columns):\n",
      " #   Column                Non-Null Count  Dtype         \n",
      "---  ------                --------------  -----         \n",
      " 0   NUM                   21785 non-null  int64         \n",
      " 1   CH                    21785 non-null  object        \n",
      " 2   [SEQ1]  RisingTime    21785 non-null  float64       \n",
      " 3   [SEQ1]  FallingTime   21785 non-null  float64       \n",
      " 4   [SEQ2]  F0 Current    21785 non-null  float64       \n",
      " 5   [SEQ2]  F0 Vibration  21785 non-null  float64       \n",
      " 6   [SEQ2]  Noise Touch   21785 non-null  float64       \n",
      " 7   [SEQ2]  Noise THD1    21785 non-null  float64       \n",
      " 8   [SEQ2]  Noise Band1   21785 non-null  float64       \n",
      " 9   [SEQ3]  F0 Frequency  21785 non-null  float64       \n",
      " 10  [SEQ3]  F0 Vibration  21785 non-null  float64       \n",
      " 11  [SEQ3]  Noise Touch   21785 non-null  float64       \n",
      " 12  [SEQ3]  Noise THD1    21785 non-null  float64       \n",
      " 13  [SEQ3]  Noise Band1   21785 non-null  float64       \n",
      " 14  [SEQ4]  F0 Vibration  21785 non-null  float64       \n",
      " 15  [SEQ4]  Noise Touch   21785 non-null  float64       \n",
      " 16  [SEQ4]  Noise THD1    21785 non-null  float64       \n",
      " 17  [SEQ4]  Noise Band1   21785 non-null  float64       \n",
      " 18  [SEQ5]  F0 Vibration  21785 non-null  float64       \n",
      " 19  [SEQ6]  F0 Vibration  21785 non-null  float64       \n",
      " 20  PASS/FAIL             21785 non-null  object        \n",
      " 21  DATE                  21785 non-null  datetime64[ns]\n",
      " 22  MODEL                 21785 non-null  object        \n",
      "dtypes: datetime64[ns](1), float64(18), int64(1), object(3)\n",
      "memory usage: 4.0+ MB\n"
     ]
    }
   ],
   "source": [
    "df['DATE'] = pd.to_datetime(df['DATE'])\n",
    "df.info()"
   ]
  },
  {
   "cell_type": "code",
   "execution_count": 6,
   "metadata": {},
   "outputs": [
    {
     "data": {
      "text/html": [
       "<div>\n",
       "<style scoped>\n",
       "    .dataframe tbody tr th:only-of-type {\n",
       "        vertical-align: middle;\n",
       "    }\n",
       "\n",
       "    .dataframe tbody tr th {\n",
       "        vertical-align: top;\n",
       "    }\n",
       "\n",
       "    .dataframe thead th {\n",
       "        text-align: right;\n",
       "    }\n",
       "</style>\n",
       "<table border=\"1\" class=\"dataframe\">\n",
       "  <thead>\n",
       "    <tr style=\"text-align: right;\">\n",
       "      <th></th>\n",
       "      <th>NUM</th>\n",
       "      <th>CH</th>\n",
       "      <th>[SEQ1]  RisingTime</th>\n",
       "      <th>[SEQ1]  FallingTime</th>\n",
       "      <th>[SEQ2]  F0 Current</th>\n",
       "      <th>[SEQ2]  F0 Vibration</th>\n",
       "      <th>[SEQ2]  Noise Touch</th>\n",
       "      <th>[SEQ2]  Noise THD1</th>\n",
       "      <th>[SEQ2]  Noise Band1</th>\n",
       "      <th>[SEQ3]  F0 Frequency</th>\n",
       "      <th>...</th>\n",
       "      <th>[SEQ3]  Noise THD1</th>\n",
       "      <th>[SEQ3]  Noise Band1</th>\n",
       "      <th>[SEQ4]  F0 Vibration</th>\n",
       "      <th>[SEQ4]  Noise Touch</th>\n",
       "      <th>[SEQ4]  Noise THD1</th>\n",
       "      <th>[SEQ4]  Noise Band1</th>\n",
       "      <th>[SEQ5]  F0 Vibration</th>\n",
       "      <th>[SEQ6]  F0 Vibration</th>\n",
       "      <th>PASS/FAIL</th>\n",
       "      <th>MODEL</th>\n",
       "    </tr>\n",
       "    <tr>\n",
       "      <th>DATE</th>\n",
       "      <th></th>\n",
       "      <th></th>\n",
       "      <th></th>\n",
       "      <th></th>\n",
       "      <th></th>\n",
       "      <th></th>\n",
       "      <th></th>\n",
       "      <th></th>\n",
       "      <th></th>\n",
       "      <th></th>\n",
       "      <th></th>\n",
       "      <th></th>\n",
       "      <th></th>\n",
       "      <th></th>\n",
       "      <th></th>\n",
       "      <th></th>\n",
       "      <th></th>\n",
       "      <th></th>\n",
       "      <th></th>\n",
       "      <th></th>\n",
       "      <th></th>\n",
       "    </tr>\n",
       "  </thead>\n",
       "  <tbody>\n",
       "    <tr>\n",
       "      <th>2021-06-23 10:05:07</th>\n",
       "      <td>1</td>\n",
       "      <td>CH1</td>\n",
       "      <td>4.5</td>\n",
       "      <td>18.6</td>\n",
       "      <td>294.5</td>\n",
       "      <td>1.11</td>\n",
       "      <td>0.0</td>\n",
       "      <td>4.1</td>\n",
       "      <td>0.0</td>\n",
       "      <td>168.6</td>\n",
       "      <td>...</td>\n",
       "      <td>4.4</td>\n",
       "      <td>0.4</td>\n",
       "      <td>1.17</td>\n",
       "      <td>0.8</td>\n",
       "      <td>3.6</td>\n",
       "      <td>0.0</td>\n",
       "      <td>1.71</td>\n",
       "      <td>1.31</td>\n",
       "      <td>PASS</td>\n",
       "      <td>101040SB Alert_FILE HUBBLE them 165hz</td>\n",
       "    </tr>\n",
       "    <tr>\n",
       "      <th>2021-06-23 10:05:09</th>\n",
       "      <td>1</td>\n",
       "      <td>CH2</td>\n",
       "      <td>5.8</td>\n",
       "      <td>17.1</td>\n",
       "      <td>299.9</td>\n",
       "      <td>1.09</td>\n",
       "      <td>6.2</td>\n",
       "      <td>4.0</td>\n",
       "      <td>2.3</td>\n",
       "      <td>167.1</td>\n",
       "      <td>...</td>\n",
       "      <td>3.0</td>\n",
       "      <td>1.3</td>\n",
       "      <td>1.08</td>\n",
       "      <td>0.0</td>\n",
       "      <td>4.7</td>\n",
       "      <td>0.0</td>\n",
       "      <td>1.63</td>\n",
       "      <td>1.24</td>\n",
       "      <td>PASS</td>\n",
       "      <td>101040SB Alert_FILE HUBBLE them 165hz</td>\n",
       "    </tr>\n",
       "    <tr>\n",
       "      <th>2021-06-23 10:05:11</th>\n",
       "      <td>1</td>\n",
       "      <td>CH3</td>\n",
       "      <td>6.2</td>\n",
       "      <td>20.5</td>\n",
       "      <td>305.7</td>\n",
       "      <td>0.99</td>\n",
       "      <td>0.0</td>\n",
       "      <td>2.9</td>\n",
       "      <td>0.0</td>\n",
       "      <td>171.7</td>\n",
       "      <td>...</td>\n",
       "      <td>1.6</td>\n",
       "      <td>0.1</td>\n",
       "      <td>1.10</td>\n",
       "      <td>1.1</td>\n",
       "      <td>2.8</td>\n",
       "      <td>0.0</td>\n",
       "      <td>1.53</td>\n",
       "      <td>1.15</td>\n",
       "      <td>PASS</td>\n",
       "      <td>101040SB Alert_FILE HUBBLE them 165hz</td>\n",
       "    </tr>\n",
       "    <tr>\n",
       "      <th>2021-06-23 10:05:14</th>\n",
       "      <td>1</td>\n",
       "      <td>CH4</td>\n",
       "      <td>6.2</td>\n",
       "      <td>19.1</td>\n",
       "      <td>302.1</td>\n",
       "      <td>1.11</td>\n",
       "      <td>0.0</td>\n",
       "      <td>3.6</td>\n",
       "      <td>0.0</td>\n",
       "      <td>172.9</td>\n",
       "      <td>...</td>\n",
       "      <td>6.0</td>\n",
       "      <td>1.3</td>\n",
       "      <td>1.11</td>\n",
       "      <td>0.0</td>\n",
       "      <td>3.3</td>\n",
       "      <td>0.0</td>\n",
       "      <td>1.77</td>\n",
       "      <td>1.38</td>\n",
       "      <td>PASS</td>\n",
       "      <td>101040SB Alert_FILE HUBBLE them 165hz</td>\n",
       "    </tr>\n",
       "    <tr>\n",
       "      <th>2021-06-23 10:05:16</th>\n",
       "      <td>1</td>\n",
       "      <td>CH6</td>\n",
       "      <td>6.4</td>\n",
       "      <td>19.7</td>\n",
       "      <td>309.1</td>\n",
       "      <td>1.07</td>\n",
       "      <td>0.0</td>\n",
       "      <td>3.7</td>\n",
       "      <td>0.0</td>\n",
       "      <td>172.9</td>\n",
       "      <td>...</td>\n",
       "      <td>5.2</td>\n",
       "      <td>3.8</td>\n",
       "      <td>1.10</td>\n",
       "      <td>1.9</td>\n",
       "      <td>3.3</td>\n",
       "      <td>0.0</td>\n",
       "      <td>1.73</td>\n",
       "      <td>1.33</td>\n",
       "      <td>PASS</td>\n",
       "      <td>101040SB Alert_FILE HUBBLE them 165hz</td>\n",
       "    </tr>\n",
       "  </tbody>\n",
       "</table>\n",
       "<p>5 rows × 22 columns</p>\n",
       "</div>"
      ],
      "text/plain": [
       "                     NUM   CH  [SEQ1]  RisingTime  [SEQ1]  FallingTime  \\\n",
       "DATE                                                                     \n",
       "2021-06-23 10:05:07    1  CH1                 4.5                 18.6   \n",
       "2021-06-23 10:05:09    1  CH2                 5.8                 17.1   \n",
       "2021-06-23 10:05:11    1  CH3                 6.2                 20.5   \n",
       "2021-06-23 10:05:14    1  CH4                 6.2                 19.1   \n",
       "2021-06-23 10:05:16    1  CH6                 6.4                 19.7   \n",
       "\n",
       "                     [SEQ2]  F0 Current  [SEQ2]  F0 Vibration  \\\n",
       "DATE                                                            \n",
       "2021-06-23 10:05:07               294.5                  1.11   \n",
       "2021-06-23 10:05:09               299.9                  1.09   \n",
       "2021-06-23 10:05:11               305.7                  0.99   \n",
       "2021-06-23 10:05:14               302.1                  1.11   \n",
       "2021-06-23 10:05:16               309.1                  1.07   \n",
       "\n",
       "                     [SEQ2]  Noise Touch  [SEQ2]  Noise THD1  \\\n",
       "DATE                                                           \n",
       "2021-06-23 10:05:07                  0.0                 4.1   \n",
       "2021-06-23 10:05:09                  6.2                 4.0   \n",
       "2021-06-23 10:05:11                  0.0                 2.9   \n",
       "2021-06-23 10:05:14                  0.0                 3.6   \n",
       "2021-06-23 10:05:16                  0.0                 3.7   \n",
       "\n",
       "                     [SEQ2]  Noise Band1  [SEQ3]  F0 Frequency  ...  \\\n",
       "DATE                                                            ...   \n",
       "2021-06-23 10:05:07                  0.0                 168.6  ...   \n",
       "2021-06-23 10:05:09                  2.3                 167.1  ...   \n",
       "2021-06-23 10:05:11                  0.0                 171.7  ...   \n",
       "2021-06-23 10:05:14                  0.0                 172.9  ...   \n",
       "2021-06-23 10:05:16                  0.0                 172.9  ...   \n",
       "\n",
       "                     [SEQ3]  Noise THD1  [SEQ3]  Noise Band1  \\\n",
       "DATE                                                           \n",
       "2021-06-23 10:05:07                 4.4                  0.4   \n",
       "2021-06-23 10:05:09                 3.0                  1.3   \n",
       "2021-06-23 10:05:11                 1.6                  0.1   \n",
       "2021-06-23 10:05:14                 6.0                  1.3   \n",
       "2021-06-23 10:05:16                 5.2                  3.8   \n",
       "\n",
       "                     [SEQ4]  F0 Vibration  [SEQ4]  Noise Touch  \\\n",
       "DATE                                                             \n",
       "2021-06-23 10:05:07                  1.17                  0.8   \n",
       "2021-06-23 10:05:09                  1.08                  0.0   \n",
       "2021-06-23 10:05:11                  1.10                  1.1   \n",
       "2021-06-23 10:05:14                  1.11                  0.0   \n",
       "2021-06-23 10:05:16                  1.10                  1.9   \n",
       "\n",
       "                     [SEQ4]  Noise THD1  [SEQ4]  Noise Band1  \\\n",
       "DATE                                                           \n",
       "2021-06-23 10:05:07                 3.6                  0.0   \n",
       "2021-06-23 10:05:09                 4.7                  0.0   \n",
       "2021-06-23 10:05:11                 2.8                  0.0   \n",
       "2021-06-23 10:05:14                 3.3                  0.0   \n",
       "2021-06-23 10:05:16                 3.3                  0.0   \n",
       "\n",
       "                     [SEQ5]  F0 Vibration  [SEQ6]  F0 Vibration  PASS/FAIL  \\\n",
       "DATE                                                                         \n",
       "2021-06-23 10:05:07                  1.71                  1.31       PASS   \n",
       "2021-06-23 10:05:09                  1.63                  1.24       PASS   \n",
       "2021-06-23 10:05:11                  1.53                  1.15       PASS   \n",
       "2021-06-23 10:05:14                  1.77                  1.38       PASS   \n",
       "2021-06-23 10:05:16                  1.73                  1.33       PASS   \n",
       "\n",
       "                                                     MODEL  \n",
       "DATE                                                        \n",
       "2021-06-23 10:05:07  101040SB Alert_FILE HUBBLE them 165hz  \n",
       "2021-06-23 10:05:09  101040SB Alert_FILE HUBBLE them 165hz  \n",
       "2021-06-23 10:05:11  101040SB Alert_FILE HUBBLE them 165hz  \n",
       "2021-06-23 10:05:14  101040SB Alert_FILE HUBBLE them 165hz  \n",
       "2021-06-23 10:05:16  101040SB Alert_FILE HUBBLE them 165hz  \n",
       "\n",
       "[5 rows x 22 columns]"
      ]
     },
     "execution_count": 6,
     "metadata": {},
     "output_type": "execute_result"
    }
   ],
   "source": [
    "df.set_index('DATE', drop=True, inplace=True)\n",
    "df.head()"
   ]
  },
  {
   "cell_type": "code",
   "execution_count": 7,
   "metadata": {},
   "outputs": [
    {
     "data": {
      "text/html": [
       "<div>\n",
       "<style scoped>\n",
       "    .dataframe tbody tr th:only-of-type {\n",
       "        vertical-align: middle;\n",
       "    }\n",
       "\n",
       "    .dataframe tbody tr th {\n",
       "        vertical-align: top;\n",
       "    }\n",
       "\n",
       "    .dataframe thead th {\n",
       "        text-align: right;\n",
       "    }\n",
       "</style>\n",
       "<table border=\"1\" class=\"dataframe\">\n",
       "  <thead>\n",
       "    <tr style=\"text-align: right;\">\n",
       "      <th></th>\n",
       "      <th>NUM</th>\n",
       "      <th>[SEQ1]  RisingTime</th>\n",
       "      <th>[SEQ1]  FallingTime</th>\n",
       "      <th>[SEQ2]  F0 Current</th>\n",
       "      <th>[SEQ2]  F0 Vibration</th>\n",
       "      <th>[SEQ2]  Noise Touch</th>\n",
       "      <th>[SEQ2]  Noise THD1</th>\n",
       "      <th>[SEQ2]  Noise Band1</th>\n",
       "      <th>[SEQ3]  F0 Frequency</th>\n",
       "      <th>[SEQ3]  F0 Vibration</th>\n",
       "      <th>[SEQ3]  Noise Touch</th>\n",
       "      <th>[SEQ3]  Noise THD1</th>\n",
       "      <th>[SEQ3]  Noise Band1</th>\n",
       "      <th>[SEQ4]  F0 Vibration</th>\n",
       "      <th>[SEQ4]  Noise Touch</th>\n",
       "      <th>[SEQ4]  Noise THD1</th>\n",
       "      <th>[SEQ4]  Noise Band1</th>\n",
       "      <th>[SEQ5]  F0 Vibration</th>\n",
       "      <th>[SEQ6]  F0 Vibration</th>\n",
       "    </tr>\n",
       "    <tr>\n",
       "      <th>DATE</th>\n",
       "      <th></th>\n",
       "      <th></th>\n",
       "      <th></th>\n",
       "      <th></th>\n",
       "      <th></th>\n",
       "      <th></th>\n",
       "      <th></th>\n",
       "      <th></th>\n",
       "      <th></th>\n",
       "      <th></th>\n",
       "      <th></th>\n",
       "      <th></th>\n",
       "      <th></th>\n",
       "      <th></th>\n",
       "      <th></th>\n",
       "      <th></th>\n",
       "      <th></th>\n",
       "      <th></th>\n",
       "      <th></th>\n",
       "    </tr>\n",
       "  </thead>\n",
       "  <tbody>\n",
       "    <tr>\n",
       "      <th>2021-06-23</th>\n",
       "      <td>391.900102</td>\n",
       "      <td>5.662621</td>\n",
       "      <td>19.535897</td>\n",
       "      <td>298.815304</td>\n",
       "      <td>1.044034</td>\n",
       "      <td>0.913746</td>\n",
       "      <td>3.616684</td>\n",
       "      <td>1.678283</td>\n",
       "      <td>170.038707</td>\n",
       "      <td>2.618319</td>\n",
       "      <td>18.023761</td>\n",
       "      <td>4.265074</td>\n",
       "      <td>1.588350</td>\n",
       "      <td>1.099359</td>\n",
       "      <td>5.441364</td>\n",
       "      <td>3.493025</td>\n",
       "      <td>1.096857</td>\n",
       "      <td>1.639663</td>\n",
       "      <td>1.266916</td>\n",
       "    </tr>\n",
       "    <tr>\n",
       "      <th>2021-06-24</th>\n",
       "      <td>225.758942</td>\n",
       "      <td>5.748856</td>\n",
       "      <td>19.926483</td>\n",
       "      <td>300.850078</td>\n",
       "      <td>1.034457</td>\n",
       "      <td>0.595668</td>\n",
       "      <td>3.768585</td>\n",
       "      <td>1.601955</td>\n",
       "      <td>170.736747</td>\n",
       "      <td>2.676307</td>\n",
       "      <td>18.026727</td>\n",
       "      <td>4.117085</td>\n",
       "      <td>1.394068</td>\n",
       "      <td>1.076694</td>\n",
       "      <td>4.426239</td>\n",
       "      <td>3.628949</td>\n",
       "      <td>0.971517</td>\n",
       "      <td>1.682462</td>\n",
       "      <td>1.282431</td>\n",
       "    </tr>\n",
       "    <tr>\n",
       "      <th>2021-06-25</th>\n",
       "      <td>324.928580</td>\n",
       "      <td>5.823708</td>\n",
       "      <td>20.154019</td>\n",
       "      <td>301.465235</td>\n",
       "      <td>0.981831</td>\n",
       "      <td>0.488956</td>\n",
       "      <td>3.590023</td>\n",
       "      <td>1.186882</td>\n",
       "      <td>172.466192</td>\n",
       "      <td>2.695329</td>\n",
       "      <td>18.076684</td>\n",
       "      <td>3.800258</td>\n",
       "      <td>1.263357</td>\n",
       "      <td>1.085282</td>\n",
       "      <td>4.433427</td>\n",
       "      <td>3.472107</td>\n",
       "      <td>0.676697</td>\n",
       "      <td>1.565089</td>\n",
       "      <td>1.200130</td>\n",
       "    </tr>\n",
       "    <tr>\n",
       "      <th>2021-06-26</th>\n",
       "      <td>548.009002</td>\n",
       "      <td>5.763149</td>\n",
       "      <td>19.582283</td>\n",
       "      <td>300.939284</td>\n",
       "      <td>1.022739</td>\n",
       "      <td>0.506340</td>\n",
       "      <td>3.674373</td>\n",
       "      <td>1.569508</td>\n",
       "      <td>171.125014</td>\n",
       "      <td>2.667771</td>\n",
       "      <td>18.044493</td>\n",
       "      <td>3.860525</td>\n",
       "      <td>1.613158</td>\n",
       "      <td>1.100065</td>\n",
       "      <td>4.771097</td>\n",
       "      <td>3.476480</td>\n",
       "      <td>1.141122</td>\n",
       "      <td>1.622348</td>\n",
       "      <td>1.240230</td>\n",
       "    </tr>\n",
       "  </tbody>\n",
       "</table>\n",
       "</div>"
      ],
      "text/plain": [
       "                   NUM  [SEQ1]  RisingTime  [SEQ1]  FallingTime  \\\n",
       "DATE                                                              \n",
       "2021-06-23  391.900102            5.662621            19.535897   \n",
       "2021-06-24  225.758942            5.748856            19.926483   \n",
       "2021-06-25  324.928580            5.823708            20.154019   \n",
       "2021-06-26  548.009002            5.763149            19.582283   \n",
       "\n",
       "            [SEQ2]  F0 Current  [SEQ2]  F0 Vibration  [SEQ2]  Noise Touch  \\\n",
       "DATE                                                                        \n",
       "2021-06-23          298.815304              1.044034             0.913746   \n",
       "2021-06-24          300.850078              1.034457             0.595668   \n",
       "2021-06-25          301.465235              0.981831             0.488956   \n",
       "2021-06-26          300.939284              1.022739             0.506340   \n",
       "\n",
       "            [SEQ2]  Noise THD1  [SEQ2]  Noise Band1  [SEQ3]  F0 Frequency  \\\n",
       "DATE                                                                        \n",
       "2021-06-23            3.616684             1.678283            170.038707   \n",
       "2021-06-24            3.768585             1.601955            170.736747   \n",
       "2021-06-25            3.590023             1.186882            172.466192   \n",
       "2021-06-26            3.674373             1.569508            171.125014   \n",
       "\n",
       "            [SEQ3]  F0 Vibration  [SEQ3]  Noise Touch  [SEQ3]  Noise THD1  \\\n",
       "DATE                                                                        \n",
       "2021-06-23              2.618319            18.023761            4.265074   \n",
       "2021-06-24              2.676307            18.026727            4.117085   \n",
       "2021-06-25              2.695329            18.076684            3.800258   \n",
       "2021-06-26              2.667771            18.044493            3.860525   \n",
       "\n",
       "            [SEQ3]  Noise Band1  [SEQ4]  F0 Vibration  [SEQ4]  Noise Touch  \\\n",
       "DATE                                                                         \n",
       "2021-06-23             1.588350              1.099359             5.441364   \n",
       "2021-06-24             1.394068              1.076694             4.426239   \n",
       "2021-06-25             1.263357              1.085282             4.433427   \n",
       "2021-06-26             1.613158              1.100065             4.771097   \n",
       "\n",
       "            [SEQ4]  Noise THD1  [SEQ4]  Noise Band1  [SEQ5]  F0 Vibration  \\\n",
       "DATE                                                                        \n",
       "2021-06-23            3.493025             1.096857              1.639663   \n",
       "2021-06-24            3.628949             0.971517              1.682462   \n",
       "2021-06-25            3.472107             0.676697              1.565089   \n",
       "2021-06-26            3.476480             1.141122              1.622348   \n",
       "\n",
       "            [SEQ6]  F0 Vibration  \n",
       "DATE                              \n",
       "2021-06-23              1.266916  \n",
       "2021-06-24              1.282431  \n",
       "2021-06-25              1.200130  \n",
       "2021-06-26              1.240230  "
      ]
     },
     "execution_count": 7,
     "metadata": {},
     "output_type": "execute_result"
    }
   ],
   "source": [
    "df_mean = df.resample(rule='D').mean()\n",
    "df_mean"
   ]
  },
  {
   "cell_type": "markdown",
   "metadata": {},
   "source": [
    "### 6/23 ~ 6/26일간의 SEQ1, SEQ2의 값 비교 및 추이 확인"
   ]
  },
  {
   "cell_type": "markdown",
   "metadata": {},
   "source": [
    "### 응답속도\n",
    "#### [SEQ1] RisingTime"
   ]
  },
  {
   "cell_type": "code",
   "execution_count": 8,
   "metadata": {},
   "outputs": [
    {
     "data": {
      "text/html": [
       "<div>\n",
       "<style scoped>\n",
       "    .dataframe tbody tr th:only-of-type {\n",
       "        vertical-align: middle;\n",
       "    }\n",
       "\n",
       "    .dataframe tbody tr th {\n",
       "        vertical-align: top;\n",
       "    }\n",
       "\n",
       "    .dataframe thead th {\n",
       "        text-align: right;\n",
       "    }\n",
       "</style>\n",
       "<table border=\"1\" class=\"dataframe\">\n",
       "  <thead>\n",
       "    <tr style=\"text-align: right;\">\n",
       "      <th></th>\n",
       "      <th>[SEQ1]  RisingTime</th>\n",
       "    </tr>\n",
       "    <tr>\n",
       "      <th>DATE</th>\n",
       "      <th></th>\n",
       "    </tr>\n",
       "  </thead>\n",
       "  <tbody>\n",
       "    <tr>\n",
       "      <th>2021-06-23</th>\n",
       "      <td>5.662621</td>\n",
       "    </tr>\n",
       "    <tr>\n",
       "      <th>2021-06-24</th>\n",
       "      <td>5.748856</td>\n",
       "    </tr>\n",
       "    <tr>\n",
       "      <th>2021-06-25</th>\n",
       "      <td>5.823708</td>\n",
       "    </tr>\n",
       "    <tr>\n",
       "      <th>2021-06-26</th>\n",
       "      <td>5.763149</td>\n",
       "    </tr>\n",
       "  </tbody>\n",
       "</table>\n",
       "</div>"
      ],
      "text/plain": [
       "            [SEQ1]  RisingTime\n",
       "DATE                          \n",
       "2021-06-23            5.662621\n",
       "2021-06-24            5.748856\n",
       "2021-06-25            5.823708\n",
       "2021-06-26            5.763149"
      ]
     },
     "execution_count": 8,
     "metadata": {},
     "output_type": "execute_result"
    }
   ],
   "source": [
    "SEQ1_RisingTime = pd.DataFrame(df_mean, columns= ['[SEQ1]  RisingTime'])\n",
    "SEQ1_RisingTime"
   ]
  },
  {
   "cell_type": "code",
   "execution_count": 27,
   "metadata": {},
   "outputs": [
    {
     "data": {
      "text/plain": [
       "[<matplotlib.lines.Line2D at 0x1ba05a16340>]"
      ]
     },
     "execution_count": 27,
     "metadata": {},
     "output_type": "execute_result"
    },
    {
     "data": {
      "image/png": "[encoded data removed]",
      "text/plain": [
       "<Figure size 720x576 with 1 Axes>"
      ]
     },
     "metadata": {
      "needs_background": "light"
     },
     "output_type": "display_data"
    }
   ],
   "source": [
    "plt.figure(figsize=(10,8))\n",
    "plt.subplot(2,1,1)\n",
    "plt.plot(df_mean.index, df_mean['[SEQ1]  RisingTime'])"
   ]
  },
  {
   "cell_type": "markdown",
   "metadata": {},
   "source": [
    "#### [SEQ1] FallingTime"
   ]
  },
  {
   "cell_type": "code",
   "execution_count": 29,
   "metadata": {},
   "outputs": [
    {
     "data": {
      "text/html": [
       "<div>\n",
       "<style scoped>\n",
       "    .dataframe tbody tr th:only-of-type {\n",
       "        vertical-align: middle;\n",
       "    }\n",
       "\n",
       "    .dataframe tbody tr th {\n",
       "        vertical-align: top;\n",
       "    }\n",
       "\n",
       "    .dataframe thead th {\n",
       "        text-align: right;\n",
       "    }\n",
       "</style>\n",
       "<table border=\"1\" class=\"dataframe\">\n",
       "  <thead>\n",
       "    <tr style=\"text-align: right;\">\n",
       "      <th></th>\n",
       "      <th>[SEQ1]  FallingTime</th>\n",
       "    </tr>\n",
       "    <tr>\n",
       "      <th>DATE</th>\n",
       "      <th></th>\n",
       "    </tr>\n",
       "  </thead>\n",
       "  <tbody>\n",
       "    <tr>\n",
       "      <th>2021-06-23</th>\n",
       "      <td>19.535897</td>\n",
       "    </tr>\n",
       "    <tr>\n",
       "      <th>2021-06-24</th>\n",
       "      <td>19.926483</td>\n",
       "    </tr>\n",
       "    <tr>\n",
       "      <th>2021-06-25</th>\n",
       "      <td>20.154019</td>\n",
       "    </tr>\n",
       "    <tr>\n",
       "      <th>2021-06-26</th>\n",
       "      <td>19.582283</td>\n",
       "    </tr>\n",
       "  </tbody>\n",
       "</table>\n",
       "</div>"
      ],
      "text/plain": [
       "            [SEQ1]  FallingTime\n",
       "DATE                           \n",
       "2021-06-23            19.535897\n",
       "2021-06-24            19.926483\n",
       "2021-06-25            20.154019\n",
       "2021-06-26            19.582283"
      ]
     },
     "execution_count": 29,
     "metadata": {},
     "output_type": "execute_result"
    }
   ],
   "source": [
    "SEQ1_RisingTime = pd.DataFrame(df_mean, columns= ['[SEQ1]  FallingTime'])\n",
    "SEQ1_RisingTime"
   ]
  },
  {
   "cell_type": "code",
   "execution_count": 30,
   "metadata": {},
   "outputs": [
    {
     "data": {
      "text/plain": [
       "[<matplotlib.lines.Line2D at 0x1ba05c72df0>]"
      ]
     },
     "execution_count": 30,
     "metadata": {},
     "output_type": "execute_result"
    },
    {
     "data": {
      "image/png": "[encoded data removed]",
      "text/plain": [
       "<Figure size 720x576 with 1 Axes>"
      ]
     },
     "metadata": {
      "needs_background": "light"
     },
     "output_type": "display_data"
    }
   ],
   "source": [
    "plt.figure(figsize=(10,8))\n",
    "plt.subplot(2,1,1)\n",
    "plt.plot(df_mean.index, df_mean['[SEQ1]  FallingTime'])"
   ]
  },
  {
   "cell_type": "markdown",
   "metadata": {},
   "source": [
    "#### [SEQ2] F0 Current / 소비전류"
   ]
  },
  {
   "cell_type": "code",
   "execution_count": 31,
   "metadata": {},
   "outputs": [
    {
     "data": {
      "text/html": [
       "<div>\n",
       "<style scoped>\n",
       "    .dataframe tbody tr th:only-of-type {\n",
       "        vertical-align: middle;\n",
       "    }\n",
       "\n",
       "    .dataframe tbody tr th {\n",
       "        vertical-align: top;\n",
       "    }\n",
       "\n",
       "    .dataframe thead th {\n",
       "        text-align: right;\n",
       "    }\n",
       "</style>\n",
       "<table border=\"1\" class=\"dataframe\">\n",
       "  <thead>\n",
       "    <tr style=\"text-align: right;\">\n",
       "      <th></th>\n",
       "      <th>[SEQ2]  F0 Current</th>\n",
       "    </tr>\n",
       "    <tr>\n",
       "      <th>DATE</th>\n",
       "      <th></th>\n",
       "    </tr>\n",
       "  </thead>\n",
       "  <tbody>\n",
       "    <tr>\n",
       "      <th>2021-06-23</th>\n",
       "      <td>298.815304</td>\n",
       "    </tr>\n",
       "    <tr>\n",
       "      <th>2021-06-24</th>\n",
       "      <td>300.850078</td>\n",
       "    </tr>\n",
       "    <tr>\n",
       "      <th>2021-06-25</th>\n",
       "      <td>301.465235</td>\n",
       "    </tr>\n",
       "    <tr>\n",
       "      <th>2021-06-26</th>\n",
       "      <td>300.939284</td>\n",
       "    </tr>\n",
       "  </tbody>\n",
       "</table>\n",
       "</div>"
      ],
      "text/plain": [
       "            [SEQ2]  F0 Current\n",
       "DATE                          \n",
       "2021-06-23          298.815304\n",
       "2021-06-24          300.850078\n",
       "2021-06-25          301.465235\n",
       "2021-06-26          300.939284"
      ]
     },
     "execution_count": 31,
     "metadata": {},
     "output_type": "execute_result"
    }
   ],
   "source": [
    "SEQ2_Current = pd.DataFrame(df_mean, columns= ['[SEQ2]  F0 Current'])\n",
    "SEQ2_Current"
   ]
  },
  {
   "cell_type": "code",
   "execution_count": 32,
   "metadata": {},
   "outputs": [
    {
     "data": {
      "text/plain": [
       "[<matplotlib.lines.Line2D at 0x1ba05ac2070>]"
      ]
     },
     "execution_count": 32,
     "metadata": {},
     "output_type": "execute_result"
    },
    {
     "data": {
      "image/png": "[encoded data removed]",
      "text/plain": [
       "<Figure size 720x576 with 1 Axes>"
      ]
     },
     "metadata": {
      "needs_background": "light"
     },
     "output_type": "display_data"
    }
   ],
   "source": [
    "plt.figure(figsize=(10,8))\n",
    "plt.subplot(2,1,1)\n",
    "plt.plot(df_mean.index, df_mean['[SEQ2]  F0 Current'])"
   ]
  },
  {
   "cell_type": "markdown",
   "metadata": {},
   "source": [
    "#### [SEQ2] F0 Vibration / 진동력"
   ]
  },
  {
   "cell_type": "code",
   "execution_count": 33,
   "metadata": {},
   "outputs": [
    {
     "data": {
      "text/html": [
       "<div>\n",
       "<style scoped>\n",
       "    .dataframe tbody tr th:only-of-type {\n",
       "        vertical-align: middle;\n",
       "    }\n",
       "\n",
       "    .dataframe tbody tr th {\n",
       "        vertical-align: top;\n",
       "    }\n",
       "\n",
       "    .dataframe thead th {\n",
       "        text-align: right;\n",
       "    }\n",
       "</style>\n",
       "<table border=\"1\" class=\"dataframe\">\n",
       "  <thead>\n",
       "    <tr style=\"text-align: right;\">\n",
       "      <th></th>\n",
       "      <th>[SEQ2]  F0 Vibration</th>\n",
       "    </tr>\n",
       "    <tr>\n",
       "      <th>DATE</th>\n",
       "      <th></th>\n",
       "    </tr>\n",
       "  </thead>\n",
       "  <tbody>\n",
       "    <tr>\n",
       "      <th>2021-06-23</th>\n",
       "      <td>1.044034</td>\n",
       "    </tr>\n",
       "    <tr>\n",
       "      <th>2021-06-24</th>\n",
       "      <td>1.034457</td>\n",
       "    </tr>\n",
       "    <tr>\n",
       "      <th>2021-06-25</th>\n",
       "      <td>0.981831</td>\n",
       "    </tr>\n",
       "    <tr>\n",
       "      <th>2021-06-26</th>\n",
       "      <td>1.022739</td>\n",
       "    </tr>\n",
       "  </tbody>\n",
       "</table>\n",
       "</div>"
      ],
      "text/plain": [
       "            [SEQ2]  F0 Vibration\n",
       "DATE                            \n",
       "2021-06-23              1.044034\n",
       "2021-06-24              1.034457\n",
       "2021-06-25              0.981831\n",
       "2021-06-26              1.022739"
      ]
     },
     "execution_count": 33,
     "metadata": {},
     "output_type": "execute_result"
    }
   ],
   "source": [
    "SEQ2_Vibration = pd.DataFrame(df_mean, columns= ['[SEQ2]  F0 Vibration'])\n",
    "SEQ2_Vibration"
   ]
  },
  {
   "cell_type": "code",
   "execution_count": 34,
   "metadata": {},
   "outputs": [
    {
     "data": {
      "text/plain": [
       "[<matplotlib.lines.Line2D at 0x1ba05a80250>]"
      ]
     },
     "execution_count": 34,
     "metadata": {},
     "output_type": "execute_result"
    },
    {
     "data": {
      "image/png": "[encoded data removed]",
      "text/plain": [
       "<Figure size 720x576 with 1 Axes>"
      ]
     },
     "metadata": {
      "needs_background": "light"
     },
     "output_type": "display_data"
    }
   ],
   "source": [
    "plt.figure(figsize=(10,8))\n",
    "plt.subplot(2,1,1)\n",
    "plt.plot(df_mean.index, df_mean['[SEQ2]  F0 Vibration'])"
   ]
  },
  {
   "cell_type": "markdown",
   "metadata": {},
   "source": [
    "#### [SEQ3]  F0 Frequency / 주파수(HZ)"
   ]
  },
  {
   "cell_type": "code",
   "execution_count": 39,
   "metadata": {},
   "outputs": [
    {
     "data": {
      "text/plain": [
       "DATE\n",
       "2021-06-23    170.038707\n",
       "2021-06-24    170.736747\n",
       "2021-06-25    172.466192\n",
       "2021-06-26    171.125014\n",
       "Freq: D, Name: [SEQ3]  F0 Frequency, dtype: float64"
      ]
     },
     "execution_count": 39,
     "metadata": {},
     "output_type": "execute_result"
    }
   ],
   "source": [
    "df_mean['[SEQ3]  F0 Frequency'].dropna()"
   ]
  },
  {
   "cell_type": "code",
   "execution_count": 41,
   "metadata": {},
   "outputs": [
    {
     "data": {
      "text/plain": [
       "[<matplotlib.lines.Line2D at 0x1ba05b96160>]"
      ]
     },
     "execution_count": 41,
     "metadata": {},
     "output_type": "execute_result"
    },
    {
     "data": {
      "image/png": "[encoded data removed]",
      "text/plain": [
       "<Figure size 720x576 with 1 Axes>"
      ]
     },
     "metadata": {
      "needs_background": "light"
     },
     "output_type": "display_data"
    }
   ],
   "source": [
    "plt.figure(figsize=(10,8))\n",
    "plt.subplot(2,1,1)\n",
    "plt.plot(df_mean.index, df_mean['[SEQ3]  F0 Frequency'])"
   ]
  },
  {
   "cell_type": "code",
   "execution_count": null,
   "metadata": {},
   "outputs": [],
   "source": []
  },
  {
   "cell_type": "markdown",
   "metadata": {},
   "source": [
    "#### [SEQ3] F0 Vibration / 진동력"
   ]
  },
  {
   "cell_type": "code",
   "execution_count": 42,
   "metadata": {},
   "outputs": [
    {
     "data": {
      "text/html": [
       "<div>\n",
       "<style scoped>\n",
       "    .dataframe tbody tr th:only-of-type {\n",
       "        vertical-align: middle;\n",
       "    }\n",
       "\n",
       "    .dataframe tbody tr th {\n",
       "        vertical-align: top;\n",
       "    }\n",
       "\n",
       "    .dataframe thead th {\n",
       "        text-align: right;\n",
       "    }\n",
       "</style>\n",
       "<table border=\"1\" class=\"dataframe\">\n",
       "  <thead>\n",
       "    <tr style=\"text-align: right;\">\n",
       "      <th></th>\n",
       "      <th>[SEQ3]  F0 Vibration</th>\n",
       "    </tr>\n",
       "    <tr>\n",
       "      <th>DATE</th>\n",
       "      <th></th>\n",
       "    </tr>\n",
       "  </thead>\n",
       "  <tbody>\n",
       "    <tr>\n",
       "      <th>2021-06-23</th>\n",
       "      <td>2.618319</td>\n",
       "    </tr>\n",
       "    <tr>\n",
       "      <th>2021-06-24</th>\n",
       "      <td>2.676307</td>\n",
       "    </tr>\n",
       "    <tr>\n",
       "      <th>2021-06-25</th>\n",
       "      <td>2.695329</td>\n",
       "    </tr>\n",
       "    <tr>\n",
       "      <th>2021-06-26</th>\n",
       "      <td>2.667771</td>\n",
       "    </tr>\n",
       "  </tbody>\n",
       "</table>\n",
       "</div>"
      ],
      "text/plain": [
       "            [SEQ3]  F0 Vibration\n",
       "DATE                            \n",
       "2021-06-23              2.618319\n",
       "2021-06-24              2.676307\n",
       "2021-06-25              2.695329\n",
       "2021-06-26              2.667771"
      ]
     },
     "execution_count": 42,
     "metadata": {},
     "output_type": "execute_result"
    }
   ],
   "source": [
    "SEQ3_Vibration = pd.DataFrame(df_mean, columns= ['[SEQ3]  F0 Vibration'])\n",
    "SEQ3_Vibration"
   ]
  },
  {
   "cell_type": "code",
   "execution_count": 43,
   "metadata": {},
   "outputs": [
    {
     "data": {
      "text/plain": [
       "[<matplotlib.lines.Line2D at 0x1ba05be0bb0>]"
      ]
     },
     "execution_count": 43,
     "metadata": {},
     "output_type": "execute_result"
    },
    {
     "data": {
      "image/png": "[encoded data removed]",
      "text/plain": [
       "<Figure size 720x576 with 1 Axes>"
      ]
     },
     "metadata": {
      "needs_background": "light"
     },
     "output_type": "display_data"
    }
   ],
   "source": [
    "plt.figure(figsize=(10,8))\n",
    "plt.subplot(2,1,1)\n",
    "plt.plot(df_mean.index, df_mean['[SEQ3]  F0 Vibration'])"
   ]
  },
  {
   "cell_type": "markdown",
   "metadata": {},
   "source": [
    "##### [SEQ3]의 주파수와 진동값은 6/23~6/26일 중 6/25가 가장 높은 수치로 나타났다.\n",
    "##### 그래프의 형태는 어느 정도 비슷한 추이를 보인다. (상관관계를 통해 자세히 알아볼 것.)"
   ]
  },
  {
   "cell_type": "code",
   "execution_count": null,
   "metadata": {},
   "outputs": [],
   "source": []
  },
  {
   "cell_type": "markdown",
   "metadata": {},
   "source": [
    "#### [SEQ4]  F0 Vibration / 진동력"
   ]
  },
  {
   "cell_type": "code",
   "execution_count": 44,
   "metadata": {},
   "outputs": [
    {
     "data": {
      "text/html": [
       "<div>\n",
       "<style scoped>\n",
       "    .dataframe tbody tr th:only-of-type {\n",
       "        vertical-align: middle;\n",
       "    }\n",
       "\n",
       "    .dataframe tbody tr th {\n",
       "        vertical-align: top;\n",
       "    }\n",
       "\n",
       "    .dataframe thead th {\n",
       "        text-align: right;\n",
       "    }\n",
       "</style>\n",
       "<table border=\"1\" class=\"dataframe\">\n",
       "  <thead>\n",
       "    <tr style=\"text-align: right;\">\n",
       "      <th></th>\n",
       "      <th>[SEQ4]  F0 Vibration</th>\n",
       "    </tr>\n",
       "    <tr>\n",
       "      <th>DATE</th>\n",
       "      <th></th>\n",
       "    </tr>\n",
       "  </thead>\n",
       "  <tbody>\n",
       "    <tr>\n",
       "      <th>2021-06-23</th>\n",
       "      <td>1.099359</td>\n",
       "    </tr>\n",
       "    <tr>\n",
       "      <th>2021-06-24</th>\n",
       "      <td>1.076694</td>\n",
       "    </tr>\n",
       "    <tr>\n",
       "      <th>2021-06-25</th>\n",
       "      <td>1.085282</td>\n",
       "    </tr>\n",
       "    <tr>\n",
       "      <th>2021-06-26</th>\n",
       "      <td>1.100065</td>\n",
       "    </tr>\n",
       "  </tbody>\n",
       "</table>\n",
       "</div>"
      ],
      "text/plain": [
       "            [SEQ4]  F0 Vibration\n",
       "DATE                            \n",
       "2021-06-23              1.099359\n",
       "2021-06-24              1.076694\n",
       "2021-06-25              1.085282\n",
       "2021-06-26              1.100065"
      ]
     },
     "execution_count": 44,
     "metadata": {},
     "output_type": "execute_result"
    }
   ],
   "source": [
    "SEQ4_Vibration = pd.DataFrame(df_mean, columns= ['[SEQ4]  F0 Vibration'])\n",
    "SEQ4_Vibration"
   ]
  },
  {
   "cell_type": "code",
   "execution_count": 45,
   "metadata": {},
   "outputs": [
    {
     "data": {
      "text/plain": [
       "[<matplotlib.lines.Line2D at 0x1ba05cb10d0>]"
      ]
     },
     "execution_count": 45,
     "metadata": {},
     "output_type": "execute_result"
    },
    {
     "data": {
      "image/png": "[encoded data removed]",
      "text/plain": [
       "<Figure size 720x576 with 1 Axes>"
      ]
     },
     "metadata": {
      "needs_background": "light"
     },
     "output_type": "display_data"
    }
   ],
   "source": [
    "plt.figure(figsize=(10,8))\n",
    "plt.subplot(2,1,1)\n",
    "plt.plot(df_mean.index, df_mean['[SEQ4]  F0 Vibration'])"
   ]
  },
  {
   "cell_type": "markdown",
   "metadata": {},
   "source": [
    "#### [SEQ5]  F0 Vibration / 진동력"
   ]
  },
  {
   "cell_type": "code",
   "execution_count": 46,
   "metadata": {},
   "outputs": [
    {
     "data": {
      "text/html": [
       "<div>\n",
       "<style scoped>\n",
       "    .dataframe tbody tr th:only-of-type {\n",
       "        vertical-align: middle;\n",
       "    }\n",
       "\n",
       "    .dataframe tbody tr th {\n",
       "        vertical-align: top;\n",
       "    }\n",
       "\n",
       "    .dataframe thead th {\n",
       "        text-align: right;\n",
       "    }\n",
       "</style>\n",
       "<table border=\"1\" class=\"dataframe\">\n",
       "  <thead>\n",
       "    <tr style=\"text-align: right;\">\n",
       "      <th></th>\n",
       "      <th>[SEQ5]  F0 Vibration</th>\n",
       "    </tr>\n",
       "    <tr>\n",
       "      <th>DATE</th>\n",
       "      <th></th>\n",
       "    </tr>\n",
       "  </thead>\n",
       "  <tbody>\n",
       "    <tr>\n",
       "      <th>2021-06-23</th>\n",
       "      <td>1.639663</td>\n",
       "    </tr>\n",
       "    <tr>\n",
       "      <th>2021-06-24</th>\n",
       "      <td>1.682462</td>\n",
       "    </tr>\n",
       "    <tr>\n",
       "      <th>2021-06-25</th>\n",
       "      <td>1.565089</td>\n",
       "    </tr>\n",
       "    <tr>\n",
       "      <th>2021-06-26</th>\n",
       "      <td>1.622348</td>\n",
       "    </tr>\n",
       "  </tbody>\n",
       "</table>\n",
       "</div>"
      ],
      "text/plain": [
       "            [SEQ5]  F0 Vibration\n",
       "DATE                            \n",
       "2021-06-23              1.639663\n",
       "2021-06-24              1.682462\n",
       "2021-06-25              1.565089\n",
       "2021-06-26              1.622348"
      ]
     },
     "execution_count": 46,
     "metadata": {},
     "output_type": "execute_result"
    }
   ],
   "source": [
    "SEQ5_Vibration = pd.DataFrame(df_mean, columns= ['[SEQ5]  F0 Vibration'])\n",
    "SEQ5_Vibration"
   ]
  },
  {
   "cell_type": "code",
   "execution_count": 50,
   "metadata": {},
   "outputs": [
    {
     "data": {
      "text/plain": [
       "[<matplotlib.lines.Line2D at 0x1ba05db44f0>]"
      ]
     },
     "execution_count": 50,
     "metadata": {},
     "output_type": "execute_result"
    },
    {
     "data": {
      "image/png": "[encoded data removed]",
      "text/plain": [
       "<Figure size 720x576 with 1 Axes>"
      ]
     },
     "metadata": {
      "needs_background": "light"
     },
     "output_type": "display_data"
    }
   ],
   "source": [
    "plt.figure(figsize=(10,8))\n",
    "plt.subplot(2,1,1)\n",
    "plt.plot(df_mean.index, df_mean['[SEQ5]  F0 Vibration'])"
   ]
  },
  {
   "cell_type": "markdown",
   "metadata": {},
   "source": [
    "#### [SEQ6]  F0 Vibration / 진동력"
   ]
  },
  {
   "cell_type": "code",
   "execution_count": 51,
   "metadata": {},
   "outputs": [
    {
     "data": {
      "text/html": [
       "<div>\n",
       "<style scoped>\n",
       "    .dataframe tbody tr th:only-of-type {\n",
       "        vertical-align: middle;\n",
       "    }\n",
       "\n",
       "    .dataframe tbody tr th {\n",
       "        vertical-align: top;\n",
       "    }\n",
       "\n",
       "    .dataframe thead th {\n",
       "        text-align: right;\n",
       "    }\n",
       "</style>\n",
       "<table border=\"1\" class=\"dataframe\">\n",
       "  <thead>\n",
       "    <tr style=\"text-align: right;\">\n",
       "      <th></th>\n",
       "      <th>[SEQ6]  F0 Vibration</th>\n",
       "    </tr>\n",
       "    <tr>\n",
       "      <th>DATE</th>\n",
       "      <th></th>\n",
       "    </tr>\n",
       "  </thead>\n",
       "  <tbody>\n",
       "    <tr>\n",
       "      <th>2021-06-23</th>\n",
       "      <td>1.266916</td>\n",
       "    </tr>\n",
       "    <tr>\n",
       "      <th>2021-06-24</th>\n",
       "      <td>1.282431</td>\n",
       "    </tr>\n",
       "    <tr>\n",
       "      <th>2021-06-25</th>\n",
       "      <td>1.200130</td>\n",
       "    </tr>\n",
       "    <tr>\n",
       "      <th>2021-06-26</th>\n",
       "      <td>1.240230</td>\n",
       "    </tr>\n",
       "  </tbody>\n",
       "</table>\n",
       "</div>"
      ],
      "text/plain": [
       "            [SEQ6]  F0 Vibration\n",
       "DATE                            \n",
       "2021-06-23              1.266916\n",
       "2021-06-24              1.282431\n",
       "2021-06-25              1.200130\n",
       "2021-06-26              1.240230"
      ]
     },
     "execution_count": 51,
     "metadata": {},
     "output_type": "execute_result"
    }
   ],
   "source": [
    "SEQ6_Vibration = pd.DataFrame(df_mean, columns= ['[SEQ6]  F0 Vibration'])\n",
    "SEQ6_Vibration"
   ]
  },
  {
   "cell_type": "code",
   "execution_count": 52,
   "metadata": {},
   "outputs": [
    {
     "data": {
      "text/plain": [
       "[<matplotlib.lines.Line2D at 0x1ba05e0b5b0>]"
      ]
     },
     "execution_count": 52,
     "metadata": {},
     "output_type": "execute_result"
    },
    {
     "data": {
      "image/png": "[encoded data removed]",
      "text/plain": [
       "<Figure size 720x576 with 1 Axes>"
      ]
     },
     "metadata": {
      "needs_background": "light"
     },
     "output_type": "display_data"
    }
   ],
   "source": [
    "plt.figure(figsize=(10,8))\n",
    "plt.subplot(2,1,1)\n",
    "plt.plot(df_mean.index, df_mean['[SEQ6]  F0 Vibration'])"
   ]
  },
  {
   "cell_type": "code",
   "execution_count": null,
   "metadata": {},
   "outputs": [],
   "source": []
  },
  {
   "cell_type": "code",
   "execution_count": 53,
   "metadata": {},
   "outputs": [
    {
     "name": "stdout",
     "output_type": "stream",
     "text": [
      "<class 'pandas.core.frame.DataFrame'>\n",
      "DatetimeIndex: 21785 entries, 2021-06-23 10:05:07 to 2021-06-26 16:14:45\n",
      "Data columns (total 22 columns):\n",
      " #   Column                Non-Null Count  Dtype  \n",
      "---  ------                --------------  -----  \n",
      " 0   NUM                   21785 non-null  int64  \n",
      " 1   CH                    21785 non-null  object \n",
      " 2   [SEQ1]  RisingTime    21785 non-null  float64\n",
      " 3   [SEQ1]  FallingTime   21785 non-null  float64\n",
      " 4   [SEQ2]  F0 Current    21785 non-null  float64\n",
      " 5   [SEQ2]  F0 Vibration  21785 non-null  float64\n",
      " 6   [SEQ2]  Noise Touch   21785 non-null  float64\n",
      " 7   [SEQ2]  Noise THD1    21785 non-null  float64\n",
      " 8   [SEQ2]  Noise Band1   21785 non-null  float64\n",
      " 9   [SEQ3]  F0 Frequency  21785 non-null  float64\n",
      " 10  [SEQ3]  F0 Vibration  21785 non-null  float64\n",
      " 11  [SEQ3]  Noise Touch   21785 non-null  float64\n",
      " 12  [SEQ3]  Noise THD1    21785 non-null  float64\n",
      " 13  [SEQ3]  Noise Band1   21785 non-null  float64\n",
      " 14  [SEQ4]  F0 Vibration  21785 non-null  float64\n",
      " 15  [SEQ4]  Noise Touch   21785 non-null  float64\n",
      " 16  [SEQ4]  Noise THD1    21785 non-null  float64\n",
      " 17  [SEQ4]  Noise Band1   21785 non-null  float64\n",
      " 18  [SEQ5]  F0 Vibration  21785 non-null  float64\n",
      " 19  [SEQ6]  F0 Vibration  21785 non-null  float64\n",
      " 20  PASS/FAIL             21785 non-null  object \n",
      " 21  MODEL                 21785 non-null  object \n",
      "dtypes: float64(18), int64(1), object(3)\n",
      "memory usage: 3.8+ MB\n"
     ]
    }
   ],
   "source": [
    "df.info()"
   ]
  },
  {
   "cell_type": "markdown",
   "metadata": {},
   "source": [
    "### [SEQ2], [SEQ3] 소비전류.주파수.진동값에 대한 상관성"
   ]
  },
  {
   "cell_type": "markdown",
   "metadata": {},
   "source": [
    "##### 검사 항목 중 noise관련 부분은 실제 정규성을 띄지 않는것으로 보여 제외한다."
   ]
  },
  {
   "cell_type": "markdown",
   "metadata": {},
   "source": [
    "#### 1. SEQ2"
   ]
  },
  {
   "cell_type": "code",
   "execution_count": 55,
   "metadata": {},
   "outputs": [],
   "source": [
    "X = df['[SEQ2]  F0 Current']\n",
    "Y = df['[SEQ2]  F0 Vibration']"
   ]
  },
  {
   "cell_type": "code",
   "execution_count": 61,
   "metadata": {},
   "outputs": [
    {
     "data": {
      "text/plain": [
       "0.35738591801239444"
      ]
     },
     "execution_count": 61,
     "metadata": {},
     "output_type": "execute_result"
    }
   ],
   "source": [
    "np.corrcoef(X,Y)[0,1]"
   ]
  },
  {
   "cell_type": "code",
   "execution_count": 56,
   "metadata": {},
   "outputs": [
    {
     "data": {
      "image/png": "[encoded data removed]",
      "text/plain": [
       "<Figure size 432x288 with 1 Axes>"
      ]
     },
     "metadata": {
      "needs_background": "light"
     },
     "output_type": "display_data"
    }
   ],
   "source": [
    "import matplotlib.pyplot as plt\n",
    "plt.scatter(X, Y, alpha=0.5)\n",
    "plt.title('[SEQ2] Current ~ Vibration')\n",
    "plt.xlabel('Vibration')\n",
    "plt.ylabel('Current')\n",
    "plt.show()"
   ]
  },
  {
   "cell_type": "markdown",
   "metadata": {},
   "source": [
    "##### 소비전류와 진동값의 상관관계 : 0.357\n",
    "##### [SEQ2]  F0 Current(전류), [SEQ2]  F0 Vibration(진동값)는 보통의 양의 상관관계를 갖는다."
   ]
  },
  {
   "cell_type": "code",
   "execution_count": null,
   "metadata": {},
   "outputs": [],
   "source": []
  },
  {
   "cell_type": "markdown",
   "metadata": {},
   "source": [
    "#### 2. SEQ3"
   ]
  },
  {
   "cell_type": "code",
   "execution_count": 63,
   "metadata": {},
   "outputs": [],
   "source": [
    "X = df['[SEQ3]  F0 Frequency']\n",
    "Y = df['[SEQ3]  F0 Vibration']"
   ]
  },
  {
   "cell_type": "code",
   "execution_count": 64,
   "metadata": {},
   "outputs": [
    {
     "data": {
      "text/plain": [
       "0.38239024400608906"
      ]
     },
     "execution_count": 64,
     "metadata": {},
     "output_type": "execute_result"
    }
   ],
   "source": [
    "np.corrcoef(X,Y)[0,1]"
   ]
  },
  {
   "cell_type": "code",
   "execution_count": 67,
   "metadata": {},
   "outputs": [
    {
     "data": {
      "image/png": "[encoded data removed]",
      "text/plain": [
       "<Figure size 432x288 with 1 Axes>"
      ]
     },
     "metadata": {
      "needs_background": "light"
     },
     "output_type": "display_data"
    }
   ],
   "source": [
    "plt.scatter(X, Y, alpha=0.5)\n",
    "plt.title('[SEQ3] Vibration ~ Frequency')\n",
    "plt.xlabel('Frequency')\n",
    "plt.ylabel('Vibration')\n",
    "plt.show()"
   ]
  },
  {
   "cell_type": "markdown",
   "metadata": {},
   "source": [
    "##### 소비전류와 진동값의 상관관계 : 0.382\n",
    "##### [SEQ3]  F0 Frequency(주파수), [SEQ2]  F0 Vibration(진동값)는 보통의 양의 상관관계를 갖는다."
   ]
  },
  {
   "cell_type": "code",
   "execution_count": 9,
   "metadata": {},
   "outputs": [
    {
     "name": "stdout",
     "output_type": "stream",
     "text": [
      "<class 'pandas.core.frame.DataFrame'>\n",
      "DatetimeIndex: 21785 entries, 2021-06-23 10:05:07 to 2021-06-26 16:14:45\n",
      "Data columns (total 22 columns):\n",
      " #   Column                Non-Null Count  Dtype  \n",
      "---  ------                --------------  -----  \n",
      " 0   NUM                   21785 non-null  int64  \n",
      " 1   CH                    21785 non-null  object \n",
      " 2   [SEQ1]  RisingTime    21785 non-null  float64\n",
      " 3   [SEQ1]  FallingTime   21785 non-null  float64\n",
      " 4   [SEQ2]  F0 Current    21785 non-null  float64\n",
      " 5   [SEQ2]  F0 Vibration  21785 non-null  float64\n",
      " 6   [SEQ2]  Noise Touch   21785 non-null  float64\n",
      " 7   [SEQ2]  Noise THD1    21785 non-null  float64\n",
      " 8   [SEQ2]  Noise Band1   21785 non-null  float64\n",
      " 9   [SEQ3]  F0 Frequency  21785 non-null  float64\n",
      " 10  [SEQ3]  F0 Vibration  21785 non-null  float64\n",
      " 11  [SEQ3]  Noise Touch   21785 non-null  float64\n",
      " 12  [SEQ3]  Noise THD1    21785 non-null  float64\n",
      " 13  [SEQ3]  Noise Band1   21785 non-null  float64\n",
      " 14  [SEQ4]  F0 Vibration  21785 non-null  float64\n",
      " 15  [SEQ4]  Noise Touch   21785 non-null  float64\n",
      " 16  [SEQ4]  Noise THD1    21785 non-null  float64\n",
      " 17  [SEQ4]  Noise Band1   21785 non-null  float64\n",
      " 18  [SEQ5]  F0 Vibration  21785 non-null  float64\n",
      " 19  [SEQ6]  F0 Vibration  21785 non-null  float64\n",
      " 20  PASS/FAIL             21785 non-null  object \n",
      " 21  MODEL                 21785 non-null  object \n",
      "dtypes: float64(18), int64(1), object(3)\n",
      "memory usage: 3.8+ MB\n"
     ]
    }
   ],
   "source": [
    "df.info()"
   ]
  },
  {
   "cell_type": "markdown",
   "metadata": {},
   "source": [
    "### Q-Q plot(Quantile-Quantile Plot)을 통한 정규성 검정 "
   ]
  },
  {
   "cell_type": "code",
   "execution_count": 10,
   "metadata": {},
   "outputs": [
    {
     "data": {
      "text/plain": [
       "((array([-3.99891228, -3.78378464, -3.66611185, ...,  3.66611185,\n",
       "          3.78378464,  3.99891228]),\n",
       "  array([ 0. ,  0. ,  0. , ..., 28.5, 29.9, 33.7])),\n",
       " (1.0899170324944407, 0.5914895570346573, 0.6195834247460291))"
      ]
     },
     "execution_count": 10,
     "metadata": {},
     "output_type": "execute_result"
    },
    {
     "data": {
      "image/png": "[encoded data removed]",
      "text/plain": [
       "<Figure size 432x288 with 1 Axes>"
      ]
     },
     "metadata": {
      "needs_background": "light"
     },
     "output_type": "display_data"
    }
   ],
   "source": [
    "stats.probplot(df['[SEQ2]  Noise Touch'], plot=plt)"
   ]
  },
  {
   "cell_type": "code",
   "execution_count": 11,
   "metadata": {},
   "outputs": [
    {
     "data": {
      "text/plain": [
       "((array([-3.99891228, -3.78378464, -3.66611185, ...,  3.66611185,\n",
       "          3.78378464,  3.99891228]),\n",
       "  array([ 0. ,  0. ,  0. , ..., 14.3, 22.5, 46.4])),\n",
       " (0.5112207135244163, 3.6519210465916916, 0.8152472197916937))"
      ]
     },
     "execution_count": 11,
     "metadata": {},
     "output_type": "execute_result"
    },
    {
     "data": {
      "image/png": "[encoded data removed]",
      "text/plain": [
       "<Figure size 432x288 with 1 Axes>"
      ]
     },
     "metadata": {
      "needs_background": "light"
     },
     "output_type": "display_data"
    }
   ],
   "source": [
    "stats.probplot(df['[SEQ2]  Noise THD1'], plot=plt)"
   ]
  },
  {
   "cell_type": "code",
   "execution_count": 12,
   "metadata": {},
   "outputs": [
    {
     "data": {
      "text/plain": [
       "((array([-3.99891228, -3.78378464, -3.66611185, ...,  3.66611185,\n",
       "          3.78378464,  3.99891228]),\n",
       "  array([ 0. ,  0. ,  0. , ..., 23.9, 28.6, 29.6])),\n",
       " (2.137707761836152, 1.4526279550149195, 0.747280627527349))"
      ]
     },
     "execution_count": 12,
     "metadata": {},
     "output_type": "execute_result"
    },
    {
     "data": {
      "image/png": "[encoded data removed]",
      "text/plain": [
       "<Figure size 432x288 with 1 Axes>"
      ]
     },
     "metadata": {
      "needs_background": "light"
     },
     "output_type": "display_data"
    }
   ],
   "source": [
    "stats.probplot(df['[SEQ2]  Noise Band1'], plot=plt)"
   ]
  },
  {
   "cell_type": "code",
   "execution_count": 78,
   "metadata": {},
   "outputs": [
    {
     "data": {
      "text/plain": [
       "((array([-3.99891228, -3.78378464, -3.66611185, ...,  3.66611185,\n",
       "          3.78378464,  3.99891228]),\n",
       "  array([ 0. ,  0. ,  0. , ..., 13.4, 13.5, 21.4])),\n",
       " (0.669305528805993, 5.76478769795731, 0.9515321521328064))"
      ]
     },
     "execution_count": 78,
     "metadata": {},
     "output_type": "execute_result"
    },
    {
     "data": {
      "image/png": "[encoded data removed]",
      "text/plain": [
       "<Figure size 432x288 with 1 Axes>"
      ]
     },
     "metadata": {
      "needs_background": "light"
     },
     "output_type": "display_data"
    }
   ],
   "source": [
    "stats.probplot(df['[SEQ1]  RisingTime'], plot=plt)"
   ]
  },
  {
   "cell_type": "code",
   "execution_count": 79,
   "metadata": {},
   "outputs": [
    {
     "data": {
      "text/plain": [
       "((array([-3.99891228, -3.78378464, -3.66611185, ...,  3.66611185,\n",
       "          3.78378464,  3.99891228]),\n",
       "  array([ 0. ,  0. ,  0. , ..., 34.2, 34.2, 34.4])),\n",
       " (3.2203602017183774, 19.858930456736285, 0.9925597660652048))"
      ]
     },
     "execution_count": 79,
     "metadata": {},
     "output_type": "execute_result"
    },
    {
     "data": {
      "image/png": "[encoded data removed]",
      "text/plain": [
       "<Figure size 432x288 with 1 Axes>"
      ]
     },
     "metadata": {
      "needs_background": "light"
     },
     "output_type": "display_data"
    }
   ],
   "source": [
    "stats.probplot(df['[SEQ1]  FallingTime'], plot=plt)"
   ]
  },
  {
   "cell_type": "code",
   "execution_count": 73,
   "metadata": {},
   "outputs": [
    {
     "data": {
      "text/plain": [
       "((array([-3.99891228, -3.78378464, -3.66611185, ...,  3.66611185,\n",
       "          3.78378464,  3.99891228]),\n",
       "  array([  0. ,   0. ,   0. , ..., 328.6, 330.1, 334.8])),\n",
       " (5.894961267145045, 300.7359880651825, 0.5393512098730182))"
      ]
     },
     "execution_count": 73,
     "metadata": {},
     "output_type": "execute_result"
    },
    {
     "data": {
      "image/png": "[encoded data removed]",
      "text/plain": [
       "<Figure size 432x288 with 1 Axes>"
      ]
     },
     "metadata": {
      "needs_background": "light"
     },
     "output_type": "display_data"
    }
   ],
   "source": [
    "stats.probplot(df['[SEQ2]  F0 Current'], plot=plt)"
   ]
  },
  {
   "cell_type": "code",
   "execution_count": 74,
   "metadata": {},
   "outputs": [
    {
     "data": {
      "text/plain": [
       "((array([-3.99891228, -3.78378464, -3.66611185, ...,  3.66611185,\n",
       "          3.78378464,  3.99891228]),\n",
       "  array([0.  , 0.  , 0.  , ..., 1.28, 1.28, 1.29])),\n",
       " (0.07121677770181695, 1.0136837273353223, 0.9373811582659447))"
      ]
     },
     "execution_count": 74,
     "metadata": {},
     "output_type": "execute_result"
    },
    {
     "data": {
      "image/png": "[encoded data removed]",
      "text/plain": [
       "<Figure size 432x288 with 1 Axes>"
      ]
     },
     "metadata": {
      "needs_background": "light"
     },
     "output_type": "display_data"
    }
   ],
   "source": [
    "stats.probplot(df['[SEQ2]  F0 Vibration'], plot=plt)"
   ]
  },
  {
   "cell_type": "code",
   "execution_count": 75,
   "metadata": {},
   "outputs": [
    {
     "data": {
      "text/plain": [
       "((array([-3.99891228, -3.78378464, -3.66611185, ...,  3.66611185,\n",
       "          3.78378464,  3.99891228]),\n",
       "  array([  0. ,   0. ,   0. , ..., 192.4, 397.9, 401.1])),\n",
       " (3.094973726023268, 171.3513105347716, 0.5018850155644311))"
      ]
     },
     "execution_count": 75,
     "metadata": {},
     "output_type": "execute_result"
    },
    {
     "data": {
      "image/png": "[encoded data removed]",
      "text/plain": [
       "<Figure size 432x288 with 1 Axes>"
      ]
     },
     "metadata": {
      "needs_background": "light"
     },
     "output_type": "display_data"
    }
   ],
   "source": [
    "stats.probplot(df['[SEQ3]  F0 Frequency'], plot=plt)"
   ]
  },
  {
   "cell_type": "code",
   "execution_count": 76,
   "metadata": {},
   "outputs": [
    {
     "data": {
      "text/plain": [
       "((array([-3.99891228, -3.78378464, -3.66611185, ...,  3.66611185,\n",
       "          3.78378464,  3.99891228]),\n",
       "  array([0.  , 0.  , 0.  , ..., 3.31, 3.35, 3.35])),\n",
       " (0.16664113539144554, 2.6709584576543492, 0.9275906874094456))"
      ]
     },
     "execution_count": 76,
     "metadata": {},
     "output_type": "execute_result"
    },
    {
     "data": {
      "image/png": "[encoded data removed]",
      "text/plain": [
       "<Figure size 432x288 with 1 Axes>"
      ]
     },
     "metadata": {
      "needs_background": "light"
     },
     "output_type": "display_data"
    }
   ],
   "source": [
    "stats.probplot(df['[SEQ3]  F0 Vibration'], plot=plt)"
   ]
  },
  {
   "cell_type": "code",
   "execution_count": null,
   "metadata": {},
   "outputs": [],
   "source": [
    "stats.probplot(df['[SEQ3]  F0 Vibration'], plot=plt)"
   ]
  }
 ],
 "metadata": {
  "kernelspec": {
   "display_name": "Python 3",
   "language": "python",
   "name": "python3"
  },
  "language_info": {
   "codemirror_mode": {
    "name": "ipython",
    "version": 3
   },
   "file_extension": ".py",
   "mimetype": "text/x-python",
   "name": "python",
   "nbconvert_exporter": "python",
   "pygments_lexer": "ipython3",
   "version": "3.8.3"
  }
 },
 "nbformat": 4,
 "nbformat_minor": 4
}
