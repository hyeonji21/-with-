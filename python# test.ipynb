{
 "cells": [
  {
   "cell_type": "code",
   "execution_count": null,
   "metadata": {},
   "outputs": [],
   "source": [
    "#1"
   ]
  },
  {
   "cell_type": "code",
   "execution_count": 40,
   "metadata": {},
   "outputs": [],
   "source": [
    "import numpy as np\n",
    "import pandas as pd"
   ]
  },
  {
   "cell_type": "code",
   "execution_count": 45,
   "metadata": {},
   "outputs": [],
   "source": [
    "np.random.seed(10)\n",
    "temp_series_sample = np.random.choice(range(0, 10), 8)"
   ]
  },
  {
   "cell_type": "code",
   "execution_count": 46,
   "metadata": {},
   "outputs": [
    {
     "data": {
      "text/plain": [
       "array([9, 4, 0, 1, 9, 0, 1, 8])"
      ]
     },
     "execution_count": 46,
     "metadata": {},
     "output_type": "execute_result"
    }
   ],
   "source": [
    "temp_series_sample"
   ]
  },
  {
   "cell_type": "code",
   "execution_count": 47,
   "metadata": {},
   "outputs": [],
   "source": [
    "temp_series = pd.Series(temp_series_sample)"
   ]
  },
  {
   "cell_type": "code",
   "execution_count": 48,
   "metadata": {},
   "outputs": [
    {
     "data": {
      "text/plain": [
       "0    9\n",
       "1    4\n",
       "2    0\n",
       "3    1\n",
       "4    9\n",
       "5    0\n",
       "6    1\n",
       "7    8\n",
       "dtype: int32"
      ]
     },
     "execution_count": 48,
     "metadata": {},
     "output_type": "execute_result"
    }
   ],
   "source": [
    "temp_series"
   ]
  },
  {
   "cell_type": "code",
   "execution_count": null,
   "metadata": {},
   "outputs": [],
   "source": []
  },
  {
   "cell_type": "code",
   "execution_count": null,
   "metadata": {},
   "outputs": [],
   "source": [
    "#2"
   ]
  },
  {
   "cell_type": "code",
   "execution_count": 49,
   "metadata": {},
   "outputs": [
    {
     "data": {
      "text/plain": [
       "['a',\n",
       " 'b',\n",
       " 'c',\n",
       " 'd',\n",
       " 'e',\n",
       " 'f',\n",
       " 'g',\n",
       " 'h',\n",
       " 'i',\n",
       " 'j',\n",
       " 'k',\n",
       " 'l',\n",
       " 'm',\n",
       " 'n',\n",
       " 'o',\n",
       " 'p',\n",
       " 'q',\n",
       " 'r',\n",
       " 's',\n",
       " 't',\n",
       " 'u',\n",
       " 'v',\n",
       " 'w',\n",
       " 'x',\n",
       " 'y',\n",
       " 'z']"
      ]
     },
     "execution_count": 49,
     "metadata": {},
     "output_type": "execute_result"
    }
   ],
   "source": [
    "from string import ascii_lowercase\n",
    "\n",
    "alpha_list = list(ascii_lowercase)\n",
    "alpha_list"
   ]
  },
  {
   "cell_type": "code",
   "execution_count": 50,
   "metadata": {},
   "outputs": [
    {
     "data": {
      "text/plain": [
       "['d', 'e', 'f', 'g', 'h', 'i', 'j', 'k']"
      ]
     },
     "execution_count": 50,
     "metadata": {},
     "output_type": "execute_result"
    }
   ],
   "source": [
    "alpha_list[3:11]"
   ]
  },
  {
   "cell_type": "code",
   "execution_count": 51,
   "metadata": {},
   "outputs": [],
   "source": [
    "temp_series.index = alpha_list[3:11]"
   ]
  },
  {
   "cell_type": "code",
   "execution_count": 52,
   "metadata": {},
   "outputs": [
    {
     "data": {
      "text/plain": [
       "d    9\n",
       "e    4\n",
       "f    0\n",
       "g    1\n",
       "h    9\n",
       "i    0\n",
       "j    1\n",
       "k    8\n",
       "dtype: int32"
      ]
     },
     "execution_count": 52,
     "metadata": {},
     "output_type": "execute_result"
    }
   ],
   "source": [
    "temp_series"
   ]
  },
  {
   "cell_type": "code",
   "execution_count": 54,
   "metadata": {},
   "outputs": [
    {
     "data": {
      "text/plain": [
       "d    9\n",
       "e    4\n",
       "f    0\n",
       "g    1\n",
       "h    9\n",
       "i    0\n",
       "j    1\n",
       "k    8\n",
       "dtype: int32"
      ]
     },
     "execution_count": 54,
     "metadata": {},
     "output_type": "execute_result"
    }
   ],
   "source": [
    "temp_series.sort_index()"
   ]
  },
  {
   "cell_type": "code",
   "execution_count": null,
   "metadata": {},
   "outputs": [],
   "source": []
  },
  {
   "cell_type": "code",
   "execution_count": 55,
   "metadata": {},
   "outputs": [],
   "source": [
    "#3 "
   ]
  },
  {
   "cell_type": "code",
   "execution_count": null,
   "metadata": {},
   "outputs": [],
   "source": [
    "del temp_series['f']"
   ]
  },
  {
   "cell_type": "code",
   "execution_count": 59,
   "metadata": {},
   "outputs": [],
   "source": [
    "del temp_series['i']"
   ]
  },
  {
   "cell_type": "code",
   "execution_count": 60,
   "metadata": {},
   "outputs": [
    {
     "data": {
      "text/plain": [
       "d    9\n",
       "e    4\n",
       "g    1\n",
       "h    9\n",
       "j    1\n",
       "k    8\n",
       "dtype: int32"
      ]
     },
     "execution_count": 60,
     "metadata": {},
     "output_type": "execute_result"
    }
   ],
   "source": [
    "temp_series"
   ]
  },
  {
   "cell_type": "code",
   "execution_count": null,
   "metadata": {},
   "outputs": [],
   "source": []
  },
  {
   "cell_type": "code",
   "execution_count": null,
   "metadata": {},
   "outputs": [],
   "source": [
    "#4"
   ]
  },
  {
   "cell_type": "code",
   "execution_count": 61,
   "metadata": {},
   "outputs": [
    {
     "data": {
      "text/plain": [
       "g    1\n",
       "j    1\n",
       "e    4\n",
       "k    8\n",
       "d    9\n",
       "h    9\n",
       "dtype: int32"
      ]
     },
     "execution_count": 61,
     "metadata": {},
     "output_type": "execute_result"
    }
   ],
   "source": [
    "temp_series.sort_values(ascending=True)"
   ]
  },
  {
   "cell_type": "code",
   "execution_count": null,
   "metadata": {},
   "outputs": [],
   "source": []
  },
  {
   "cell_type": "code",
   "execution_count": null,
   "metadata": {},
   "outputs": [],
   "source": [
    "#5"
   ]
  },
  {
   "cell_type": "code",
   "execution_count": 70,
   "metadata": {},
   "outputs": [],
   "source": [
    "from konlpy.tag import Okt\n",
    "import numpy as np\n",
    "import pandas as pd\n",
    "import os\n",
    "import matplotlib.pyplot as plt\n",
    "import seaborn as sns\n",
    "from wordcloud import WordCloud\n",
    "import re"
   ]
  },
  {
   "cell_type": "code",
   "execution_count": 67,
   "metadata": {},
   "outputs": [
    {
     "data": {
      "text/html": [
       "<div>\n",
       "<style scoped>\n",
       "    .dataframe tbody tr th:only-of-type {\n",
       "        vertical-align: middle;\n",
       "    }\n",
       "\n",
       "    .dataframe tbody tr th {\n",
       "        vertical-align: top;\n",
       "    }\n",
       "\n",
       "    .dataframe thead th {\n",
       "        text-align: right;\n",
       "    }\n",
       "</style>\n",
       "<table border=\"1\" class=\"dataframe\">\n",
       "  <thead>\n",
       "    <tr style=\"text-align: right;\">\n",
       "      <th></th>\n",
       "      <th>review</th>\n",
       "      <th>id</th>\n",
       "      <th>date</th>\n",
       "      <th>score</th>\n",
       "      <th>like</th>\n",
       "      <th>dislike</th>\n",
       "    </tr>\n",
       "  </thead>\n",
       "  <tbody>\n",
       "    <tr>\n",
       "      <th>0</th>\n",
       "      <td>한석규의 세종은 어떻게 해야 저런 연기가 가능한지 의문을 남긴다. 세종대왕 연기의 ...</td>\n",
       "      <td>Neuj(trym****)</td>\n",
       "      <td>2019.12.26 09:19</td>\n",
       "      <td>9</td>\n",
       "      <td>3390</td>\n",
       "      <td>265</td>\n",
       "    </tr>\n",
       "    <tr>\n",
       "      <th>1</th>\n",
       "      <td>천문  천만될 가능성이 높습니다.다만 백두산에 상영관 밀리는 게 아쉽네요.정말 재미...</td>\n",
       "      <td>해바라기(assu****)</td>\n",
       "      <td>2019.12.26 09:14</td>\n",
       "      <td>10</td>\n",
       "      <td>2714</td>\n",
       "      <td>400</td>\n",
       "    </tr>\n",
       "    <tr>\n",
       "      <th>2</th>\n",
       "      <td>최민식과 한석규라를 두 배우만으로도 볼 이유가 충분했던 영화지만  역사 책에서 볼 ...</td>\n",
       "      <td>goo1****</td>\n",
       "      <td>2019.12.26 10:37</td>\n",
       "      <td>10</td>\n",
       "      <td>2349</td>\n",
       "      <td>264</td>\n",
       "    </tr>\n",
       "    <tr>\n",
       "      <th>3</th>\n",
       "      <td>백두산에서 온 알바들아 평점테러 하지마라  백두산에 비하면 천문은 에레스트급이다</td>\n",
       "      <td>태태(atta****)</td>\n",
       "      <td>2019.12.26 10:25</td>\n",
       "      <td>10</td>\n",
       "      <td>1889</td>\n",
       "      <td>340</td>\n",
       "    </tr>\n",
       "    <tr>\n",
       "      <th>4</th>\n",
       "      <td>간만에 본 대작입니다. 꼭보세요</td>\n",
       "      <td>쓰리디짱(ykjh****)</td>\n",
       "      <td>2019.12.26 09:26</td>\n",
       "      <td>10</td>\n",
       "      <td>1450</td>\n",
       "      <td>166</td>\n",
       "    </tr>\n",
       "    <tr>\n",
       "      <th>...</th>\n",
       "      <td>...</td>\n",
       "      <td>...</td>\n",
       "      <td>...</td>\n",
       "      <td>...</td>\n",
       "      <td>...</td>\n",
       "      <td>...</td>\n",
       "    </tr>\n",
       "    <tr>\n",
       "      <th>12455</th>\n",
       "      <td>생각보다 좀 허술한 구성. 연기력은 출중</td>\n",
       "      <td>trus****</td>\n",
       "      <td>2020.03.05 16:23</td>\n",
       "      <td>6</td>\n",
       "      <td>13</td>\n",
       "      <td>57</td>\n",
       "    </tr>\n",
       "    <tr>\n",
       "      <th>12456</th>\n",
       "      <td>머그냥저냥볼만함그래도나쁘지않음</td>\n",
       "      <td>이정진(khmw****)</td>\n",
       "      <td>2020.03.06 12:01</td>\n",
       "      <td>6</td>\n",
       "      <td>5</td>\n",
       "      <td>50</td>\n",
       "    </tr>\n",
       "    <tr>\n",
       "      <th>12457</th>\n",
       "      <td>약간 지루해서 내용이 기억이 잘 안나요.내용이 영화에서 본건지 꿈에서 본건지 애들 ...</td>\n",
       "      <td>Jess(giss****)</td>\n",
       "      <td>2020.03.05 07:39</td>\n",
       "      <td>6</td>\n",
       "      <td>12</td>\n",
       "      <td>67</td>\n",
       "    </tr>\n",
       "    <tr>\n",
       "      <th>12458</th>\n",
       "      <td>세종대왕과 장영실이라는 훌륭한 소재로 이렇게 재미없게 영화를 만들 수 있다니 놀랍습...</td>\n",
       "      <td>maxkim(maxk****)</td>\n",
       "      <td>2020.02.29 13:27</td>\n",
       "      <td>4</td>\n",
       "      <td>25</td>\n",
       "      <td>141</td>\n",
       "    </tr>\n",
       "    <tr>\n",
       "      <th>12459</th>\n",
       "      <td>어색한 브로맨스 질질끄는 지루함</td>\n",
       "      <td>Yim(kawa****)</td>\n",
       "      <td>2020.02.28 20:33</td>\n",
       "      <td>2</td>\n",
       "      <td>33</td>\n",
       "      <td>171</td>\n",
       "    </tr>\n",
       "  </tbody>\n",
       "</table>\n",
       "<p>12460 rows × 6 columns</p>\n",
       "</div>"
      ],
      "text/plain": [
       "                                                  review                id  \\\n",
       "0      한석규의 세종은 어떻게 해야 저런 연기가 가능한지 의문을 남긴다. 세종대왕 연기의 ...    Neuj(trym****)   \n",
       "1      천문  천만될 가능성이 높습니다.다만 백두산에 상영관 밀리는 게 아쉽네요.정말 재미...    해바라기(assu****)   \n",
       "2      최민식과 한석규라를 두 배우만으로도 볼 이유가 충분했던 영화지만  역사 책에서 볼 ...          goo1****   \n",
       "3          백두산에서 온 알바들아 평점테러 하지마라  백두산에 비하면 천문은 에레스트급이다       태태(atta****)   \n",
       "4                                     간만에 본 대작입니다. 꼭보세요     쓰리디짱(ykjh****)   \n",
       "...                                                  ...               ...   \n",
       "12455                            생각보다 좀 허술한 구성. 연기력은 출중           trus****   \n",
       "12456                                  머그냥저냥볼만함그래도나쁘지않음      이정진(khmw****)   \n",
       "12457  약간 지루해서 내용이 기억이 잘 안나요.내용이 영화에서 본건지 꿈에서 본건지 애들 ...    Jess(giss****)   \n",
       "12458  세종대왕과 장영실이라는 훌륭한 소재로 이렇게 재미없게 영화를 만들 수 있다니 놀랍습...  maxkim(maxk****)   \n",
       "12459                                 어색한 브로맨스 질질끄는 지루함      Yim(kawa****)   \n",
       "\n",
       "                   date  score  like  dislike  \n",
       "0      2019.12.26 09:19      9  3390      265  \n",
       "1      2019.12.26 09:14     10  2714      400  \n",
       "2      2019.12.26 10:37     10  2349      264  \n",
       "3      2019.12.26 10:25     10  1889      340  \n",
       "4      2019.12.26 09:26     10  1450      166  \n",
       "...                 ...    ...   ...      ...  \n",
       "12455  2020.03.05 16:23      6    13       57  \n",
       "12456  2020.03.06 12:01      6     5       50  \n",
       "12457  2020.03.05 07:39      6    12       67  \n",
       "12458  2020.02.29 13:27      4    25      141  \n",
       "12459  2020.02.28 20:33      2    33      171  \n",
       "\n",
       "[12460 rows x 6 columns]"
      ]
     },
     "execution_count": 67,
     "metadata": {},
     "output_type": "execute_result"
    }
   ],
   "source": [
    "data_sample = pd.read_csv('data/chunmoon_raw_final.csv')\n",
    "data_sample"
   ]
  },
  {
   "cell_type": "code",
   "execution_count": 69,
   "metadata": {},
   "outputs": [
    {
     "data": {
      "text/html": [
       "<div>\n",
       "<style scoped>\n",
       "    .dataframe tbody tr th:only-of-type {\n",
       "        vertical-align: middle;\n",
       "    }\n",
       "\n",
       "    .dataframe tbody tr th {\n",
       "        vertical-align: top;\n",
       "    }\n",
       "\n",
       "    .dataframe thead th {\n",
       "        text-align: right;\n",
       "    }\n",
       "</style>\n",
       "<table border=\"1\" class=\"dataframe\">\n",
       "  <thead>\n",
       "    <tr style=\"text-align: right;\">\n",
       "      <th></th>\n",
       "      <th>review</th>\n",
       "      <th>id</th>\n",
       "      <th>date</th>\n",
       "      <th>score</th>\n",
       "      <th>like</th>\n",
       "      <th>dislike</th>\n",
       "    </tr>\n",
       "  </thead>\n",
       "  <tbody>\n",
       "    <tr>\n",
       "      <th>92</th>\n",
       "      <td>초반 1 20분은 배우들의 연기력에 놀라고 시작부터 강한 몰입감에 놀랐으나 뒤로 갈...</td>\n",
       "      <td>JEI(jmg_****)</td>\n",
       "      <td>2019.12.27 01:13</td>\n",
       "      <td>2</td>\n",
       "      <td>197</td>\n",
       "      <td>144</td>\n",
       "    </tr>\n",
       "    <tr>\n",
       "      <th>98</th>\n",
       "      <td>담담한 서술이 밋밋하고 다소 지루하게 느겨지는 부분은 많이 아쉬운 부분이네요. 픽션...</td>\n",
       "      <td>anyt****</td>\n",
       "      <td>2019.12.27 16:43</td>\n",
       "      <td>6</td>\n",
       "      <td>123</td>\n",
       "      <td>72</td>\n",
       "    </tr>\n",
       "    <tr>\n",
       "      <th>116</th>\n",
       "      <td>진짜 너무 지루했음. 세종이랑 장영실 둘이서 누워서 별보는 장면이나  창호지 뚫어서...</td>\n",
       "      <td>별님(eun5****)</td>\n",
       "      <td>2019.12.26 21:24</td>\n",
       "      <td>6</td>\n",
       "      <td>80</td>\n",
       "      <td>39</td>\n",
       "    </tr>\n",
       "    <tr>\n",
       "      <th>257</th>\n",
       "      <td>잔잔한거 싫어하시는분들에게는 비추드립니다저는 좀 졸렸네요</td>\n",
       "      <td>김지민(hern****)</td>\n",
       "      <td>2019.12.27 22:49</td>\n",
       "      <td>6</td>\n",
       "      <td>23</td>\n",
       "      <td>6</td>\n",
       "    </tr>\n",
       "    <tr>\n",
       "      <th>258</th>\n",
       "      <td>관람평 찐입니까..  영화 기획의 상상력이나 배우 한석규님의 연기력은 인정합니다만 ...</td>\n",
       "      <td>빵(bmmm****)</td>\n",
       "      <td>2019.12.28 11:18</td>\n",
       "      <td>5</td>\n",
       "      <td>34</td>\n",
       "      <td>17</td>\n",
       "    </tr>\n",
       "    <tr>\n",
       "      <th>...</th>\n",
       "      <td>...</td>\n",
       "      <td>...</td>\n",
       "      <td>...</td>\n",
       "      <td>...</td>\n",
       "      <td>...</td>\n",
       "      <td>...</td>\n",
       "    </tr>\n",
       "    <tr>\n",
       "      <th>12455</th>\n",
       "      <td>생각보다 좀 허술한 구성. 연기력은 출중</td>\n",
       "      <td>trus****</td>\n",
       "      <td>2020.03.05 16:23</td>\n",
       "      <td>6</td>\n",
       "      <td>13</td>\n",
       "      <td>57</td>\n",
       "    </tr>\n",
       "    <tr>\n",
       "      <th>12456</th>\n",
       "      <td>머그냥저냥볼만함그래도나쁘지않음</td>\n",
       "      <td>이정진(khmw****)</td>\n",
       "      <td>2020.03.06 12:01</td>\n",
       "      <td>6</td>\n",
       "      <td>5</td>\n",
       "      <td>50</td>\n",
       "    </tr>\n",
       "    <tr>\n",
       "      <th>12457</th>\n",
       "      <td>약간 지루해서 내용이 기억이 잘 안나요.내용이 영화에서 본건지 꿈에서 본건지 애들 ...</td>\n",
       "      <td>Jess(giss****)</td>\n",
       "      <td>2020.03.05 07:39</td>\n",
       "      <td>6</td>\n",
       "      <td>12</td>\n",
       "      <td>67</td>\n",
       "    </tr>\n",
       "    <tr>\n",
       "      <th>12458</th>\n",
       "      <td>세종대왕과 장영실이라는 훌륭한 소재로 이렇게 재미없게 영화를 만들 수 있다니 놀랍습...</td>\n",
       "      <td>maxkim(maxk****)</td>\n",
       "      <td>2020.02.29 13:27</td>\n",
       "      <td>4</td>\n",
       "      <td>25</td>\n",
       "      <td>141</td>\n",
       "    </tr>\n",
       "    <tr>\n",
       "      <th>12459</th>\n",
       "      <td>어색한 브로맨스 질질끄는 지루함</td>\n",
       "      <td>Yim(kawa****)</td>\n",
       "      <td>2020.02.28 20:33</td>\n",
       "      <td>2</td>\n",
       "      <td>33</td>\n",
       "      <td>171</td>\n",
       "    </tr>\n",
       "  </tbody>\n",
       "</table>\n",
       "<p>1735 rows × 6 columns</p>\n",
       "</div>"
      ],
      "text/plain": [
       "                                                  review                id  \\\n",
       "92     초반 1 20분은 배우들의 연기력에 놀라고 시작부터 강한 몰입감에 놀랐으나 뒤로 갈...     JEI(jmg_****)   \n",
       "98     담담한 서술이 밋밋하고 다소 지루하게 느겨지는 부분은 많이 아쉬운 부분이네요. 픽션...          anyt****   \n",
       "116    진짜 너무 지루했음. 세종이랑 장영실 둘이서 누워서 별보는 장면이나  창호지 뚫어서...      별님(eun5****)   \n",
       "257                     잔잔한거 싫어하시는분들에게는 비추드립니다저는 좀 졸렸네요      김지민(hern****)   \n",
       "258    관람평 찐입니까..  영화 기획의 상상력이나 배우 한석규님의 연기력은 인정합니다만 ...       빵(bmmm****)   \n",
       "...                                                  ...               ...   \n",
       "12455                            생각보다 좀 허술한 구성. 연기력은 출중           trus****   \n",
       "12456                                  머그냥저냥볼만함그래도나쁘지않음      이정진(khmw****)   \n",
       "12457  약간 지루해서 내용이 기억이 잘 안나요.내용이 영화에서 본건지 꿈에서 본건지 애들 ...    Jess(giss****)   \n",
       "12458  세종대왕과 장영실이라는 훌륭한 소재로 이렇게 재미없게 영화를 만들 수 있다니 놀랍습...  maxkim(maxk****)   \n",
       "12459                                 어색한 브로맨스 질질끄는 지루함      Yim(kawa****)   \n",
       "\n",
       "                   date  score  like  dislike  \n",
       "92     2019.12.27 01:13      2   197      144  \n",
       "98     2019.12.27 16:43      6   123       72  \n",
       "116    2019.12.26 21:24      6    80       39  \n",
       "257    2019.12.27 22:49      6    23        6  \n",
       "258    2019.12.28 11:18      5    34       17  \n",
       "...                 ...    ...   ...      ...  \n",
       "12455  2020.03.05 16:23      6    13       57  \n",
       "12456  2020.03.06 12:01      6     5       50  \n",
       "12457  2020.03.05 07:39      6    12       67  \n",
       "12458  2020.02.29 13:27      4    25      141  \n",
       "12459  2020.02.28 20:33      2    33      171  \n",
       "\n",
       "[1735 rows x 6 columns]"
      ]
     },
     "execution_count": 69,
     "metadata": {},
     "output_type": "execute_result"
    }
   ],
   "source": [
    "data = data_sample[data_sample['score'] <= 6]\n",
    "data"
   ]
  },
  {
   "cell_type": "code",
   "execution_count": 75,
   "metadata": {},
   "outputs": [
    {
     "data": {
      "text/plain": [
       "92       초반 1 20분은 배우들의 연기력에 놀라고 시작부터 강한 몰입감에 놀랐으나 뒤로 갈...\n",
       "98       담담한 서술이 밋밋하고 다소 지루하게 느겨지는 부분은 많이 아쉬운 부분이네요. 픽션...\n",
       "116      진짜 너무 지루했음. 세종이랑 장영실 둘이서 누워서 별보는 장면이나  창호지 뚫어서...\n",
       "257                       잔잔한거 싫어하시는분들에게는 비추드립니다저는 좀 졸렸네요 \n",
       "258      관람평 찐입니까..  영화 기획의 상상력이나 배우 한석규님의 연기력은 인정합니다만 ...\n",
       "                               ...                        \n",
       "12455                              생각보다 좀 허술한 구성. 연기력은 출중 \n",
       "12456                                    머그냥저냥볼만함그래도나쁘지않음 \n",
       "12457    약간 지루해서 내용이 기억이 잘 안나요.내용이 영화에서 본건지 꿈에서 본건지 애들 ...\n",
       "12458    세종대왕과 장영실이라는 훌륭한 소재로 이렇게 재미없게 영화를 만들 수 있다니 놀랍습...\n",
       "12459                                   어색한 브로맨스 질질끄는 지루함 \n",
       "Name: review, Length: 1735, dtype: object"
      ]
     },
     "execution_count": 75,
     "metadata": {},
     "output_type": "execute_result"
    }
   ],
   "source": [
    "raw_data = data['review']\n",
    "raw_data"
   ]
  },
  {
   "cell_type": "code",
   "execution_count": 76,
   "metadata": {},
   "outputs": [
    {
     "data": {
      "text/plain": [
       "1735"
      ]
     },
     "execution_count": 76,
     "metadata": {},
     "output_type": "execute_result"
    }
   ],
   "source": [
    "len(raw_data)"
   ]
  },
  {
   "cell_type": "code",
   "execution_count": 117,
   "metadata": {},
   "outputs": [],
   "source": [
    "raw = str(raw_data)"
   ]
  },
  {
   "cell_type": "code",
   "execution_count": 119,
   "metadata": {},
   "outputs": [],
   "source": [
    "raw_data_fw = open('review.txt','w')\n",
    "raw_data_fw.write(raw)\n",
    "raw_data_fw.close()"
   ]
  },
  {
   "cell_type": "code",
   "execution_count": 120,
   "metadata": {},
   "outputs": [
    {
     "data": {
      "text/plain": [
       "<_io.TextIOWrapper name='review.txt' mode='w' encoding='cp949'>"
      ]
     },
     "execution_count": 120,
     "metadata": {},
     "output_type": "execute_result"
    }
   ],
   "source": [
    "raw_data_fw"
   ]
  },
  {
   "cell_type": "code",
   "execution_count": 122,
   "metadata": {},
   "outputs": [],
   "source": [
    "with open('review.txt', 'r') as f:\n",
    "    review = f.readlines()"
   ]
  },
  {
   "cell_type": "code",
   "execution_count": 123,
   "metadata": {},
   "outputs": [
    {
     "data": {
      "text/plain": [
       "['92       초반 1 20분은 배우들의 연기력에 놀라고 시작부터 강한 몰입감에 놀랐으나 뒤로 갈...\\n',\n",
       " '98       담담한 서술이 밋밋하고 다소 지루하게 느겨지는 부분은 많이 아쉬운 부분이네요. 픽션...\\n',\n",
       " '116      진짜 너무 지루했음. 세종이랑 장영실 둘이서 누워서 별보는 장면이나  창호지 뚫어서...\\n',\n",
       " '257                       잔잔한거 싫어하시는분들에게는 비추드립니다저는 좀 졸렸네요 \\n',\n",
       " '258      관람평 찐입니까..  영화 기획의 상상력이나 배우 한석규님의 연기력은 인정합니다만 ...\\n',\n",
       " '                               ...                        \\n',\n",
       " '12455                              생각보다 좀 허술한 구성. 연기력은 출중 \\n',\n",
       " '12456                                    머그냥저냥볼만함그래도나쁘지않음 \\n',\n",
       " '12457    약간 지루해서 내용이 기억이 잘 안나요.내용이 영화에서 본건지 꿈에서 본건지 애들 ...\\n',\n",
       " '12458    세종대왕과 장영실이라는 훌륭한 소재로 이렇게 재미없게 영화를 만들 수 있다니 놀랍습...\\n',\n",
       " '12459                                   어색한 브로맨스 질질끄는 지루함 \\n',\n",
       " 'Name: review, Length: 1735, dtype: object']"
      ]
     },
     "execution_count": 123,
     "metadata": {},
     "output_type": "execute_result"
    }
   ],
   "source": [
    "review"
   ]
  },
  {
   "cell_type": "code",
   "execution_count": 124,
   "metadata": {},
   "outputs": [
    {
     "data": {
      "text/plain": [
       "12"
      ]
     },
     "execution_count": 124,
     "metadata": {},
     "output_type": "execute_result"
    }
   ],
   "source": [
    "len(review)"
   ]
  },
  {
   "cell_type": "code",
   "execution_count": null,
   "metadata": {},
   "outputs": [],
   "source": []
  },
  {
   "cell_type": "code",
   "execution_count": 125,
   "metadata": {},
   "outputs": [
    {
     "data": {
      "text/plain": [
       "[['92',\n",
       "  '',\n",
       "  '',\n",
       "  '',\n",
       "  '',\n",
       "  '',\n",
       "  '',\n",
       "  '초반',\n",
       "  '1',\n",
       "  '20분은',\n",
       "  '배우들의',\n",
       "  '연기력에',\n",
       "  '놀라고',\n",
       "  '시작부터',\n",
       "  '강한',\n",
       "  '몰입감에',\n",
       "  '놀랐으나',\n",
       "  '뒤로',\n",
       "  '갈...\\n'],\n",
       " ['98',\n",
       "  '',\n",
       "  '',\n",
       "  '',\n",
       "  '',\n",
       "  '',\n",
       "  '',\n",
       "  '담담한',\n",
       "  '서술이',\n",
       "  '밋밋하고',\n",
       "  '다소',\n",
       "  '지루하게',\n",
       "  '느겨지는',\n",
       "  '부분은',\n",
       "  '많이',\n",
       "  '아쉬운',\n",
       "  '부분이네요.',\n",
       "  '픽션...\\n'],\n",
       " ['116',\n",
       "  '',\n",
       "  '',\n",
       "  '',\n",
       "  '',\n",
       "  '',\n",
       "  '진짜',\n",
       "  '너무',\n",
       "  '지루했음.',\n",
       "  '세종이랑',\n",
       "  '장영실',\n",
       "  '둘이서',\n",
       "  '누워서',\n",
       "  '별보는',\n",
       "  '장면이나',\n",
       "  '',\n",
       "  '창호지',\n",
       "  '뚫어서...\\n'],\n",
       " ['257',\n",
       "  '',\n",
       "  '',\n",
       "  '',\n",
       "  '',\n",
       "  '',\n",
       "  '',\n",
       "  '',\n",
       "  '',\n",
       "  '',\n",
       "  '',\n",
       "  '',\n",
       "  '',\n",
       "  '',\n",
       "  '',\n",
       "  '',\n",
       "  '',\n",
       "  '',\n",
       "  '',\n",
       "  '',\n",
       "  '',\n",
       "  '',\n",
       "  '',\n",
       "  '잔잔한거',\n",
       "  '싫어하시는분들에게는',\n",
       "  '비추드립니다저는',\n",
       "  '좀',\n",
       "  '졸렸네요',\n",
       "  '\\n'],\n",
       " ['258',\n",
       "  '',\n",
       "  '',\n",
       "  '',\n",
       "  '',\n",
       "  '',\n",
       "  '관람평',\n",
       "  '찐입니까..',\n",
       "  '',\n",
       "  '영화',\n",
       "  '기획의',\n",
       "  '상상력이나',\n",
       "  '배우',\n",
       "  '한석규님의',\n",
       "  '연기력은',\n",
       "  '인정합니다만',\n",
       "  '...\\n'],\n",
       " ['',\n",
       "  '',\n",
       "  '',\n",
       "  '',\n",
       "  '',\n",
       "  '',\n",
       "  '',\n",
       "  '',\n",
       "  '',\n",
       "  '',\n",
       "  '',\n",
       "  '',\n",
       "  '',\n",
       "  '',\n",
       "  '',\n",
       "  '',\n",
       "  '',\n",
       "  '',\n",
       "  '',\n",
       "  '',\n",
       "  '',\n",
       "  '',\n",
       "  '',\n",
       "  '',\n",
       "  '',\n",
       "  '',\n",
       "  '',\n",
       "  '',\n",
       "  '',\n",
       "  '',\n",
       "  '',\n",
       "  '...',\n",
       "  '',\n",
       "  '',\n",
       "  '',\n",
       "  '',\n",
       "  '',\n",
       "  '',\n",
       "  '',\n",
       "  '',\n",
       "  '',\n",
       "  '',\n",
       "  '',\n",
       "  '',\n",
       "  '',\n",
       "  '',\n",
       "  '',\n",
       "  '',\n",
       "  '',\n",
       "  '',\n",
       "  '',\n",
       "  '',\n",
       "  '',\n",
       "  '',\n",
       "  '',\n",
       "  '\\n'],\n",
       " ['12455',\n",
       "  '',\n",
       "  '',\n",
       "  '',\n",
       "  '',\n",
       "  '',\n",
       "  '',\n",
       "  '',\n",
       "  '',\n",
       "  '',\n",
       "  '',\n",
       "  '',\n",
       "  '',\n",
       "  '',\n",
       "  '',\n",
       "  '',\n",
       "  '',\n",
       "  '',\n",
       "  '',\n",
       "  '',\n",
       "  '',\n",
       "  '',\n",
       "  '',\n",
       "  '',\n",
       "  '',\n",
       "  '',\n",
       "  '',\n",
       "  '',\n",
       "  '',\n",
       "  '',\n",
       "  '생각보다',\n",
       "  '좀',\n",
       "  '허술한',\n",
       "  '구성.',\n",
       "  '연기력은',\n",
       "  '출중',\n",
       "  '\\n'],\n",
       " ['12456',\n",
       "  '',\n",
       "  '',\n",
       "  '',\n",
       "  '',\n",
       "  '',\n",
       "  '',\n",
       "  '',\n",
       "  '',\n",
       "  '',\n",
       "  '',\n",
       "  '',\n",
       "  '',\n",
       "  '',\n",
       "  '',\n",
       "  '',\n",
       "  '',\n",
       "  '',\n",
       "  '',\n",
       "  '',\n",
       "  '',\n",
       "  '',\n",
       "  '',\n",
       "  '',\n",
       "  '',\n",
       "  '',\n",
       "  '',\n",
       "  '',\n",
       "  '',\n",
       "  '',\n",
       "  '',\n",
       "  '',\n",
       "  '',\n",
       "  '',\n",
       "  '',\n",
       "  '',\n",
       "  '머그냥저냥볼만함그래도나쁘지않음',\n",
       "  '\\n'],\n",
       " ['12457',\n",
       "  '',\n",
       "  '',\n",
       "  '',\n",
       "  '약간',\n",
       "  '지루해서',\n",
       "  '내용이',\n",
       "  '기억이',\n",
       "  '잘',\n",
       "  '안나요.내용이',\n",
       "  '영화에서',\n",
       "  '본건지',\n",
       "  '꿈에서',\n",
       "  '본건지',\n",
       "  '애들',\n",
       "  '...\\n'],\n",
       " ['12458',\n",
       "  '',\n",
       "  '',\n",
       "  '',\n",
       "  '세종대왕과',\n",
       "  '장영실이라는',\n",
       "  '훌륭한',\n",
       "  '소재로',\n",
       "  '이렇게',\n",
       "  '재미없게',\n",
       "  '영화를',\n",
       "  '만들',\n",
       "  '수',\n",
       "  '있다니',\n",
       "  '놀랍습...\\n'],\n",
       " ['12459',\n",
       "  '',\n",
       "  '',\n",
       "  '',\n",
       "  '',\n",
       "  '',\n",
       "  '',\n",
       "  '',\n",
       "  '',\n",
       "  '',\n",
       "  '',\n",
       "  '',\n",
       "  '',\n",
       "  '',\n",
       "  '',\n",
       "  '',\n",
       "  '',\n",
       "  '',\n",
       "  '',\n",
       "  '',\n",
       "  '',\n",
       "  '',\n",
       "  '',\n",
       "  '',\n",
       "  '',\n",
       "  '',\n",
       "  '',\n",
       "  '',\n",
       "  '',\n",
       "  '',\n",
       "  '',\n",
       "  '',\n",
       "  '',\n",
       "  '',\n",
       "  '',\n",
       "  '어색한',\n",
       "  '브로맨스',\n",
       "  '질질끄는',\n",
       "  '지루함',\n",
       "  '\\n'],\n",
       " ['Name:', 'review,', 'Length:', '1735,', 'dtype:', 'object']]"
      ]
     },
     "execution_count": 125,
     "metadata": {},
     "output_type": "execute_result"
    }
   ],
   "source": [
    "raw1 = [string.split(\" \") for string in review]\n",
    "raw1"
   ]
  },
  {
   "cell_type": "code",
   "execution_count": 126,
   "metadata": {},
   "outputs": [],
   "source": [
    "text = [string[1:len(string)-1] for string in raw1]"
   ]
  },
  {
   "cell_type": "code",
   "execution_count": 127,
   "metadata": {},
   "outputs": [],
   "source": [
    "text_final = [\" \".join(string) for string in text]"
   ]
  },
  {
   "cell_type": "code",
   "execution_count": 129,
   "metadata": {},
   "outputs": [
    {
     "data": {
      "text/plain": [
       "['      초반 1 20분은 배우들의 연기력에 놀라고 시작부터 강한 몰입감에 놀랐으나 뒤로',\n",
       " '      담담한 서술이 밋밋하고 다소 지루하게 느겨지는 부분은 많이 아쉬운 부분이네요.',\n",
       " '     진짜 너무 지루했음. 세종이랑 장영실 둘이서 누워서 별보는 장면이나  창호지',\n",
       " '                      잔잔한거 싫어하시는분들에게는 비추드립니다저는 좀 졸렸네요',\n",
       " '     관람평 찐입니까..  영화 기획의 상상력이나 배우 한석규님의 연기력은 인정합니다만',\n",
       " '                              ...                       ',\n",
       " '                             생각보다 좀 허술한 구성. 연기력은 출중',\n",
       " '                                   머그냥저냥볼만함그래도나쁘지않음',\n",
       " '   약간 지루해서 내용이 기억이 잘 안나요.내용이 영화에서 본건지 꿈에서 본건지 애들',\n",
       " '   세종대왕과 장영실이라는 훌륭한 소재로 이렇게 재미없게 영화를 만들 수 있다니',\n",
       " '                                  어색한 브로맨스 질질끄는 지루함',\n",
       " 'review, Length: 1735, dtype:']"
      ]
     },
     "execution_count": 129,
     "metadata": {},
     "output_type": "execute_result"
    }
   ],
   "source": [
    "text_final"
   ]
  },
  {
   "cell_type": "code",
   "execution_count": 130,
   "metadata": {},
   "outputs": [],
   "source": [
    "okt = Okt()"
   ]
  },
  {
   "cell_type": "code",
   "execution_count": 131,
   "metadata": {},
   "outputs": [],
   "source": [
    "review_data = [okt.pos(word) for word in text_final]"
   ]
  },
  {
   "cell_type": "code",
   "execution_count": 132,
   "metadata": {},
   "outputs": [],
   "source": [
    "review_data_temp = sum(review_data, [])"
   ]
  },
  {
   "cell_type": "code",
   "execution_count": 133,
   "metadata": {},
   "outputs": [
    {
     "data": {
      "text/plain": [
       "[('초반', 'Noun'),\n",
       " ('1', 'Number'),\n",
       " ('20분', 'Number'),\n",
       " ('은', 'Foreign'),\n",
       " ('배우', 'Noun'),\n",
       " ('들', 'Suffix'),\n",
       " ('의', 'Josa'),\n",
       " ('연기력', 'Noun'),\n",
       " ('에', 'Josa'),\n",
       " ('놀라고', 'Verb'),\n",
       " ('시작', 'Noun'),\n",
       " ('부터', 'Josa'),\n",
       " ('강한', 'Adjective'),\n",
       " ('몰입', 'Noun'),\n",
       " ('감', 'Noun'),\n",
       " ('에', 'Josa'),\n",
       " ('놀랐으나', 'Verb'),\n",
       " ('뒤', 'Noun'),\n",
       " ('로', 'Josa'),\n",
       " ('담담한', 'Adjective')]"
      ]
     },
     "execution_count": 133,
     "metadata": {},
     "output_type": "execute_result"
    }
   ],
   "source": [
    "review_data_temp[:20]"
   ]
  },
  {
   "cell_type": "code",
   "execution_count": 134,
   "metadata": {},
   "outputs": [],
   "source": [
    "review_data_nouns = [word for word, _ in review_data_temp if _== 'Noun']"
   ]
  },
  {
   "cell_type": "code",
   "execution_count": 135,
   "metadata": {},
   "outputs": [
    {
     "data": {
      "text/plain": [
       "['초반',\n",
       " '배우',\n",
       " '연기력',\n",
       " '시작',\n",
       " '몰입',\n",
       " '감',\n",
       " '뒤',\n",
       " '서술',\n",
       " '다소',\n",
       " '느겨',\n",
       " '부분',\n",
       " '부분',\n",
       " '요',\n",
       " '진짜',\n",
       " '세종',\n",
       " '장영실',\n",
       " '둘이서',\n",
       " '별보',\n",
       " '장면',\n",
       " '창호지',\n",
       " '분',\n",
       " '저',\n",
       " '좀',\n",
       " '관람',\n",
       " '평',\n",
       " '입',\n",
       " '영화',\n",
       " '기획',\n",
       " '상상력',\n",
       " '배우',\n",
       " '한석규',\n",
       " '연기력',\n",
       " '인정',\n",
       " '생각',\n",
       " '좀',\n",
       " '술',\n",
       " '구성',\n",
       " '연기력',\n",
       " '출중',\n",
       " '머그',\n",
       " '냥볼',\n",
       " '함',\n",
       " '약간',\n",
       " '내용',\n",
       " '기억',\n",
       " '안나',\n",
       " '내용',\n",
       " '영화',\n",
       " '건',\n",
       " '꿈',\n",
       " '건',\n",
       " '애',\n",
       " '세종대왕',\n",
       " '장영실',\n",
       " '소재',\n",
       " '영화',\n",
       " '수',\n",
       " '브로맨스',\n",
       " '질질',\n",
       " '지루함']"
      ]
     },
     "execution_count": 135,
     "metadata": {},
     "output_type": "execute_result"
    }
   ],
   "source": [
    "review_data_nouns"
   ]
  },
  {
   "cell_type": "code",
   "execution_count": 137,
   "metadata": {},
   "outputs": [],
   "source": [
    "review_data_nouns_2 = [word for word in review_data_nouns if len(word)>=2]"
   ]
  },
  {
   "cell_type": "code",
   "execution_count": 138,
   "metadata": {},
   "outputs": [
    {
     "data": {
      "text/plain": [
       "['초반',\n",
       " '배우',\n",
       " '연기력',\n",
       " '시작',\n",
       " '몰입',\n",
       " '서술',\n",
       " '다소',\n",
       " '느겨',\n",
       " '부분',\n",
       " '부분',\n",
       " '진짜',\n",
       " '세종',\n",
       " '장영실',\n",
       " '둘이서',\n",
       " '별보',\n",
       " '장면',\n",
       " '창호지',\n",
       " '관람',\n",
       " '영화',\n",
       " '기획',\n",
       " '상상력',\n",
       " '배우',\n",
       " '한석규',\n",
       " '연기력',\n",
       " '인정',\n",
       " '생각',\n",
       " '구성',\n",
       " '연기력',\n",
       " '출중',\n",
       " '머그',\n",
       " '냥볼',\n",
       " '약간',\n",
       " '내용',\n",
       " '기억',\n",
       " '안나',\n",
       " '내용',\n",
       " '영화',\n",
       " '세종대왕',\n",
       " '장영실',\n",
       " '소재',\n",
       " '영화',\n",
       " '브로맨스',\n",
       " '질질',\n",
       " '지루함']"
      ]
     },
     "execution_count": 138,
     "metadata": {},
     "output_type": "execute_result"
    }
   ],
   "source": [
    "review_data_nouns_2"
   ]
  },
  {
   "cell_type": "code",
   "execution_count": 143,
   "metadata": {},
   "outputs": [],
   "source": [
    "wordcloud = WordCloud(font_path = 'c:/windows/fonts/malgun.ttf', width=800, height=600, max_words=100, collocations=False).generate(' '.join(review_data_nouns_2))"
   ]
  },
  {
   "cell_type": "code",
   "execution_count": 145,
   "metadata": {},
   "outputs": [
    {
     "data": {
      "image/png": "[encoded data removed]",
      "text/plain": [
       "<Figure size 864x432 with 1 Axes>"
      ]
     },
     "metadata": {
      "needs_background": "light"
     },
     "output_type": "display_data"
    }
   ],
   "source": [
    "plt.figure(figsize=(12, 6))\n",
    "plt.imshow(wordcloud)\n",
    "plt.show()"
   ]
  },
  {
   "cell_type": "code",
   "execution_count": 146,
   "metadata": {},
   "outputs": [],
   "source": [
    "outwords = ['영화', '최민식', '한석규', '배우', '세종', '세종대왕', '장영실']"
   ]
  },
  {
   "cell_type": "code",
   "execution_count": 147,
   "metadata": {},
   "outputs": [],
   "source": [
    "review_data_nouns_2_outwords = [word for word in review_data_nouns_2 if word not in outwords]"
   ]
  },
  {
   "cell_type": "code",
   "execution_count": 153,
   "metadata": {},
   "outputs": [
    {
     "data": {
      "text/plain": [
       "['초반',\n",
       " '연기력',\n",
       " '시작',\n",
       " '몰입',\n",
       " '서술',\n",
       " '다소',\n",
       " '느겨',\n",
       " '부분',\n",
       " '부분',\n",
       " '진짜',\n",
       " '둘이서',\n",
       " '별보',\n",
       " '장면',\n",
       " '창호지',\n",
       " '관람',\n",
       " '기획',\n",
       " '상상력',\n",
       " '연기력',\n",
       " '인정',\n",
       " '생각',\n",
       " '구성',\n",
       " '연기력',\n",
       " '출중',\n",
       " '머그',\n",
       " '냥볼',\n",
       " '약간',\n",
       " '내용',\n",
       " '기억',\n",
       " '안나',\n",
       " '내용',\n",
       " '소재',\n",
       " '브로맨스',\n",
       " '질질',\n",
       " '지루함']"
      ]
     },
     "execution_count": 153,
     "metadata": {},
     "output_type": "execute_result"
    }
   ],
   "source": [
    "review_data_nouns_2_outwords"
   ]
  },
  {
   "cell_type": "code",
   "execution_count": 150,
   "metadata": {},
   "outputs": [],
   "source": [
    "wordcloud_final = WordCloud(font_path = 'c:/windows/fonts/malgun.ttf', width=800, height=600, max_words=100, collocations=False).generate(' '.join(review_data_nouns_2_outwords))"
   ]
  },
  {
   "cell_type": "code",
   "execution_count": 154,
   "metadata": {},
   "outputs": [
    {
     "data": {
      "image/png": "[encoded data removed]",
      "text/plain": [
       "<Figure size 864x432 with 1 Axes>"
      ]
     },
     "metadata": {
      "needs_background": "light"
     },
     "output_type": "display_data"
    }
   ],
   "source": [
    "plt.figure(figsize=(12, 6))\n",
    "plt.imshow(wordcloud_final)\n",
    "plt.show()"
   ]
  },
  {
   "cell_type": "code",
   "execution_count": 155,
   "metadata": {},
   "outputs": [],
   "source": [
    "wordcloud_final_add = WordCloud(font_path = 'c:/windows/fonts/malgun.ttf', width=800, height=600, max_words=100, collocations=False, colormap='viridis', background_color='white').generate(' '.join(review_data_nouns_2_outwords))"
   ]
  },
  {
   "cell_type": "code",
   "execution_count": 158,
   "metadata": {},
   "outputs": [
    {
     "data": {
      "image/png": "[encoded data removed]",
      "text/plain": [
       "<Figure size 864x432 with 1 Axes>"
      ]
     },
     "metadata": {
      "needs_background": "light"
     },
     "output_type": "display_data"
    }
   ],
   "source": [
    "plt.figure(figsize=(12, 6))\n",
    "plt.imshow(wordcloud_final_add)\n",
    "plt.show()"
   ]
  },
  {
   "cell_type": "code",
   "execution_count": null,
   "metadata": {},
   "outputs": [],
   "source": []
  }
 ],
 "metadata": {
  "kernelspec": {
   "display_name": "Python 3",
   "language": "python",
   "name": "python3"
  },
  "language_info": {
   "codemirror_mode": {
    "name": "ipython",
    "version": 3
   },
   "file_extension": ".py",
   "mimetype": "text/x-python",
   "name": "python",
   "nbconvert_exporter": "python",
   "pygments_lexer": "ipython3",
   "version": "3.8.3"
  }
 },
 "nbformat": 4,
 "nbformat_minor": 4
}
