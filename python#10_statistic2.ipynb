{
 "cells": [
  {
   "cell_type": "markdown",
   "metadata": {},
   "source": [
    "### `표본평균의 분포`(Sampling Distribution)"
   ]
  },
  {
   "cell_type": "code",
   "execution_count": 1,
   "metadata": {},
   "outputs": [],
   "source": [
    "import numpy as np\n",
    "import matplotlib.pyplot as plt\n",
    "import seaborn as sns"
   ]
  },
  {
   "cell_type": "markdown",
   "metadata": {},
   "source": [
    "#### [중심극한정리]\n",
    "\n",
    "임의의 모집단 가정 : {1,2,3,4,5,6,7,8,9}\n",
    "\n",
    "표본크기 5인 복원추출 실시"
   ]
  },
  {
   "cell_type": "code",
   "execution_count": 2,
   "metadata": {},
   "outputs": [],
   "source": [
    "para = [num for num in range(1,10)]"
   ]
  },
  {
   "cell_type": "code",
   "execution_count": 3,
   "metadata": {},
   "outputs": [
    {
     "data": {
      "text/plain": [
       "[1, 2, 3, 4, 5, 6, 7, 8, 9]"
      ]
     },
     "execution_count": 3,
     "metadata": {},
     "output_type": "execute_result"
    }
   ],
   "source": [
    "para"
   ]
  },
  {
   "cell_type": "code",
   "execution_count": 4,
   "metadata": {},
   "outputs": [
    {
     "data": {
      "text/plain": [
       "array([5, 1, 2, 1, 2])"
      ]
     },
     "execution_count": 4,
     "metadata": {},
     "output_type": "execute_result"
    }
   ],
   "source": [
    "np.random.seed(10)\n",
    "np.random.choice(para, 5, replace = True)"
   ]
  },
  {
   "cell_type": "code",
   "execution_count": 5,
   "metadata": {},
   "outputs": [],
   "source": [
    "sample_5 = np.zeros((100,5))"
   ]
  },
  {
   "cell_type": "code",
   "execution_count": 6,
   "metadata": {},
   "outputs": [],
   "source": [
    "np.random.seed(10)\n",
    "for i in range(100):\n",
    "    sample_5[i] = np.random.choice(para, 5, replace = True)"
   ]
  },
  {
   "cell_type": "code",
   "execution_count": 7,
   "metadata": {},
   "outputs": [
    {
     "data": {
      "text/plain": [
       "array([[5., 1., 2., 1., 2.],\n",
       "       [9., 1., 9., 7., 5.],\n",
       "       [4., 1., 5., 7., 9.],\n",
       "       [2., 9., 5., 2., 4.],\n",
       "       [7., 6., 4., 7., 2.]])"
      ]
     },
     "execution_count": 7,
     "metadata": {},
     "output_type": "execute_result"
    }
   ],
   "source": [
    "sample_5[:5,:]"
   ]
  },
  {
   "cell_type": "code",
   "execution_count": 8,
   "metadata": {},
   "outputs": [],
   "source": [
    "sample_mean5 = np.mean(sample_5, axis = 1)"
   ]
  },
  {
   "cell_type": "code",
   "execution_count": 9,
   "metadata": {},
   "outputs": [
    {
     "data": {
      "text/plain": [
       "<matplotlib.axes._subplots.AxesSubplot at 0x228674a4250>"
      ]
     },
     "execution_count": 9,
     "metadata": {},
     "output_type": "execute_result"
    },
    {
     "data": {
      "image/png": "[encoded data removed]",
      "text/plain": [
       "<Figure size 432x288 with 1 Axes>"
      ]
     },
     "metadata": {
      "needs_background": "light"
     },
     "output_type": "display_data"
    }
   ],
   "source": [
    "sns.distplot(sample_mean5[:,np.newaxis])  # n이 커질수록 정규분포에 가까워진다."
   ]
  },
  {
   "cell_type": "code",
   "execution_count": 10,
   "metadata": {},
   "outputs": [],
   "source": [
    "sample_30 = np.zeros((100,30))\n",
    "\n",
    "np.random.seed(10)\n",
    "for i in range(100):\n",
    "    sample_30[i] = np.random.choice(para, 30, replace = True)\n",
    "\n",
    "sample_mean30 = np.mean(sample_30, axis = 1)"
   ]
  },
  {
   "cell_type": "code",
   "execution_count": 12,
   "metadata": {},
   "outputs": [],
   "source": [
    "sample_mean = np.hstack((sample_mean5[:,np.newaxis], sample_mean30[:,np.newaxis]))"
   ]
  },
  {
   "cell_type": "code",
   "execution_count": 13,
   "metadata": {},
   "outputs": [
    {
     "data": {
      "text/plain": [
       "array([[2.2       , 4.93333333],\n",
       "       [6.2       , 5.66666667],\n",
       "       [5.2       , 3.23333333],\n",
       "       [4.4       , 5.1       ],\n",
       "       [5.2       , 5.3       ]])"
      ]
     },
     "execution_count": 13,
     "metadata": {},
     "output_type": "execute_result"
    }
   ],
   "source": [
    "sample_mean[:5,:]"
   ]
  },
  {
   "cell_type": "code",
   "execution_count": 14,
   "metadata": {},
   "outputs": [
    {
     "data": {
      "text/plain": [
       "<matplotlib.legend.Legend at 0x2286c9a4730>"
      ]
     },
     "execution_count": 14,
     "metadata": {},
     "output_type": "execute_result"
    },
    {
     "data": {
      "image/png": "[encoded data removed]",
      "text/plain": [
       "<Figure size 432x288 with 1 Axes>"
      ]
     },
     "metadata": {
      "needs_background": "light"
     },
     "output_type": "display_data"
    }
   ],
   "source": [
    "sns.distplot(sample_mean[:,np.newaxis,0], label = 'n=5')\n",
    "sns.distplot(sample_mean[:,np.newaxis,1], label = 'n=30')\n",
    "plt.legend()"
   ]
  },
  {
   "cell_type": "markdown",
   "metadata": {},
   "source": [
    "모평균 & 모표준편차"
   ]
  },
  {
   "cell_type": "code",
   "execution_count": 57,
   "metadata": {},
   "outputs": [],
   "source": [
    "mu = np.mean(para)\n",
    "sigma = np.std(para)  # 모 표준편차"
   ]
  },
  {
   "cell_type": "code",
   "execution_count": 58,
   "metadata": {},
   "outputs": [
    {
     "name": "stdout",
     "output_type": "stream",
     "text": [
      "5.0\n",
      "2.581988897471611\n"
     ]
    }
   ],
   "source": [
    "print(mu)\n",
    "print(sigma)"
   ]
  },
  {
   "cell_type": "markdown",
   "metadata": {},
   "source": [
    "표본평균의 평균"
   ]
  },
  {
   "cell_type": "code",
   "execution_count": 77,
   "metadata": {},
   "outputs": [
    {
     "data": {
      "text/plain": [
       "array([2.2, 6.2, 5.2, 4.4, 5.2, 6.4, 5.6, 5.2, 5.8, 6.2, 7.6, 3.6, 5.8,\n",
       "       3.4, 3.4, 2.8, 1.8, 2.2, 4.6, 3.8, 5. , 4.8, 7.6, 4.8, 7.8, 4.4,\n",
       "       4.2, 5.4, 4.4, 5.6, 3.2, 8. , 4. , 5. , 5.6, 3.4, 5.8, 5.2, 5.8,\n",
       "       5.4, 3.4, 4.4, 3. , 5.4, 3.2, 5.6, 3.2, 5.2, 6.4, 2.2, 3.2, 5.6,\n",
       "       4.2, 2.4, 4.6, 5.8, 4.8, 5.4, 3.4, 6. , 5.8, 4.6, 5.2, 5.4, 4.2,\n",
       "       5.2, 4.2, 6.6, 4.2, 3. , 3. , 7.4, 6.8, 5. , 6.4, 6.2, 3.8, 7.2,\n",
       "       5.8, 4.2, 3.2, 4.6, 5.6, 4.8, 7. , 5.6, 6. , 5.4, 3.8, 2.6, 5. ,\n",
       "       5.4, 3. , 6.8, 5.6, 4.8, 3.8, 4.8, 5.8, 5.4])"
      ]
     },
     "execution_count": 77,
     "metadata": {},
     "output_type": "execute_result"
    }
   ],
   "source": [
    "sample_mean5"
   ]
  },
  {
   "cell_type": "code",
   "execution_count": 111,
   "metadata": {},
   "outputs": [
    {
     "data": {
      "text/plain": [
       "array([4.93333333, 5.66666667, 3.23333333, 5.1       , 5.3       ,\n",
       "       4.86666667, 5.        , 4.26666667, 4.        , 5.        ,\n",
       "       5.06666667, 4.73333333, 5.9       , 4.7       , 5.06666667,\n",
       "       5.1       , 5.36666667, 5.93333333, 4.63333333, 5.1       ,\n",
       "       4.56666667, 5.6       , 4.86666667, 5.1       , 5.26666667,\n",
       "       5.56666667, 5.66666667, 5.16666667, 5.03333333, 4.03333333,\n",
       "       5.46666667, 3.56666667, 5.83333333, 5.06666667, 4.76666667,\n",
       "       4.73333333, 4.8       , 3.96666667, 4.66666667, 5.03333333,\n",
       "       5.63333333, 4.46666667, 5.1       , 4.83333333, 5.13333333,\n",
       "       4.5       , 5.9       , 5.26666667, 5.26666667, 4.73333333,\n",
       "       4.2       , 5.36666667, 5.13333333, 4.66666667, 4.36666667,\n",
       "       5.26666667, 4.93333333, 5.9       , 4.23333333, 5.83333333,\n",
       "       5.3       , 4.43333333, 4.8       , 5.5       , 4.86666667,\n",
       "       4.3       , 4.53333333, 4.63333333, 4.83333333, 5.33333333,\n",
       "       5.26666667, 4.9       , 4.13333333, 5.1       , 5.53333333,\n",
       "       5.03333333, 5.3       , 5.2       , 4.93333333, 5.03333333,\n",
       "       4.76666667, 5.6       , 4.93333333, 3.86666667, 4.7       ,\n",
       "       4.43333333, 4.63333333, 4.4       , 5.83333333, 5.43333333,\n",
       "       5.16666667, 5.4       , 4.46666667, 5.23333333, 5.2       ,\n",
       "       4.76666667, 4.9       , 5.16666667, 4.03333333, 4.2       ])"
      ]
     },
     "execution_count": 111,
     "metadata": {},
     "output_type": "execute_result"
    }
   ],
   "source": [
    "sample_mean30"
   ]
  },
  {
   "cell_type": "markdown",
   "metadata": {},
   "source": [
    "표본표준편차를 구해보자\n",
    "![표본분산](image/sample_mean.png)"
   ]
  },
  {
   "cell_type": "code",
   "execution_count": 127,
   "metadata": {},
   "outputs": [
    {
     "data": {
      "text/plain": [
       "1.8864646464646462"
      ]
     },
     "execution_count": 127,
     "metadata": {},
     "output_type": "execute_result"
    }
   ],
   "source": [
    "np.sum((sample_mean5-mu)**2)/(sample_mean5.size-1)"
   ]
  },
  {
   "cell_type": "code",
   "execution_count": 128,
   "metadata": {},
   "outputs": [
    {
     "data": {
      "text/plain": [
       "1.3734863109855322"
      ]
     },
     "execution_count": 128,
     "metadata": {},
     "output_type": "execute_result"
    }
   ],
   "source": [
    "np.sqrt(np.sum((sample_mean5-mu)**2)/(sample_mean5.size-1))"
   ]
  },
  {
   "cell_type": "code",
   "execution_count": 122,
   "metadata": {},
   "outputs": [
    {
     "data": {
      "text/plain": [
       "1.1547005383792515"
      ]
     },
     "execution_count": 122,
     "metadata": {},
     "output_type": "execute_result"
    }
   ],
   "source": [
    "sigma/np.sqrt(5)  # 표준오차"
   ]
  },
  {
   "cell_type": "code",
   "execution_count": 129,
   "metadata": {},
   "outputs": [
    {
     "data": {
      "text/plain": [
       "0.28517396184062854"
      ]
     },
     "execution_count": 129,
     "metadata": {},
     "output_type": "execute_result"
    }
   ],
   "source": [
    "np.sum((sample_mean30-mu)**2)/(sample_mean30.size-1)"
   ]
  },
  {
   "cell_type": "code",
   "execution_count": 130,
   "metadata": {},
   "outputs": [
    {
     "data": {
      "text/plain": [
       "0.5340168179380014"
      ]
     },
     "execution_count": 130,
     "metadata": {},
     "output_type": "execute_result"
    }
   ],
   "source": [
    "np.sqrt(np.sum((sample_mean30-mu)**2)/(sample_mean5.size-1))"
   ]
  },
  {
   "cell_type": "code",
   "execution_count": 126,
   "metadata": {},
   "outputs": [
    {
     "data": {
      "text/plain": [
       "0.4714045207910317"
      ]
     },
     "execution_count": 126,
     "metadata": {},
     "output_type": "execute_result"
    }
   ],
   "source": [
    "sigma/np.sqrt(30)"
   ]
  },
  {
   "cell_type": "markdown",
   "metadata": {},
   "source": [
    "[연습] 표본의 크기가 100일 때, 표본표준편차를 구하고 표준오차와 비교해보세요 "
   ]
  },
  {
   "cell_type": "code",
   "execution_count": null,
   "metadata": {},
   "outputs": [],
   "source": []
  },
  {
   "cell_type": "code",
   "execution_count": null,
   "metadata": {},
   "outputs": [],
   "source": []
  }
 ],
 "metadata": {
  "kernelspec": {
   "display_name": "Python 3",
   "language": "python",
   "name": "python3"
  },
  "language_info": {
   "codemirror_mode": {
    "name": "ipython",
    "version": 3
   },
   "file_extension": ".py",
   "mimetype": "text/x-python",
   "name": "python",
   "nbconvert_exporter": "python",
   "pygments_lexer": "ipython3",
   "version": "3.8.3"
  }
 },
 "nbformat": 4,
 "nbformat_minor": 4
}
